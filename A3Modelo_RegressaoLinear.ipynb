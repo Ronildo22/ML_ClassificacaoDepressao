{
 "cells": [
  {
   "cell_type": "markdown",
   "metadata": {},
   "source": [
    "# Modelo de Classificação de Depressão em Áreas Rurais\n",
    "\n",
    "- Dataset para o desenvolvemento pego na plataforma [Kaggle](https://www.kaggle.com/datasets/diegobabativa/depression).\n"
   ]
  },
  {
   "cell_type": "code",
   "execution_count": 1,
   "metadata": {},
   "outputs": [],
   "source": [
    "import pandas as pd\n",
    "import numpy as np\n",
    "import seaborn as sns\n",
    "import matplotlib.pyplot as plt\n",
    "from sklearn.preprocessing import MinMaxScaler, StandardScaler\n",
    "from sklearn.model_selection import train_test_split\n",
    "from sklearn.metrics import confusion_matrix, accuracy_score, precision_score, recall_score, f1_score\n",
    "from sklearn.metrics import mean_absolute_error, mean_squared_error\n",
    "from sklearn.preprocessing import LabelEncoder\n",
    "from sklearn.neighbors import KNeighborsClassifier\n",
    "import matplotlib.pyplot as plt\n",
    "from sklearn.metrics import roc_curve, roc_auc_score\n",
    "from sklearn.linear_model import LinearRegression\n",
    "# %matplotlib inline\n"
   ]
  },
  {
   "cell_type": "markdown",
   "metadata": {},
   "source": [
    "# Lendo o Dataset"
   ]
  },
  {
   "cell_type": "code",
   "execution_count": 2,
   "metadata": {},
   "outputs": [
    {
     "data": {
      "text/plain": [
       "(1429, 23)"
      ]
     },
     "execution_count": 2,
     "metadata": {},
     "output_type": "execute_result"
    }
   ],
   "source": [
    "\n",
    "URL = 'https://gist.githubusercontent.com/Ronildo22/a8983b7543c364534c75d6add6fc8413/raw/767bec26dbf90a2467380aba7d6f71a0820bc37e/depressionDataset'\n",
    "df_depressao = pd.read_csv(URL)\n",
    "\n",
    "df_depressao.shape\n"
   ]
  },
  {
   "cell_type": "markdown",
   "metadata": {},
   "source": [
    "## Renomeando o cabeçalho do Dataframe"
   ]
  },
  {
   "cell_type": "code",
   "execution_count": 3,
   "metadata": {},
   "outputs": [
    {
     "data": {
      "text/plain": [
       "Index(['id_pesquisa', 'id_cidade', 'genero', 'idade', 'casado',\n",
       "       'numero_filhos', 'nivel_educacao', 'membros_familia',\n",
       "       'ativos_adquiridos', 'ativos_duraveis', 'ativos_poupados',\n",
       "       'despesas_moradia', 'outras_despesas', 'renda_salario',\n",
       "       'renda_fazenda_propria', 'renda_negocios', 'renda_sem_negocio',\n",
       "       'renda_agricola', 'despesas_fazenda', 'trabalho_principal',\n",
       "       'investimento_duradouro', 'sem_investimento_duradouro', 'depressao'],\n",
       "      dtype='object')"
      ]
     },
     "execution_count": 3,
     "metadata": {},
     "output_type": "execute_result"
    }
   ],
   "source": [
    "\n",
    "rename_df = {\n",
    "            'Survey_id': 'id_pesquisa',\n",
    "            'Ville_id': 'id_cidade',\n",
    "            'sex': 'genero',\n",
    "            'Age': 'idade',\n",
    "            'Married': 'casado',\n",
    "            'Number_children': 'numero_filhos',\n",
    "            'education_level': 'nivel_educacao',\n",
    "            'total_members': 'membros_familia',\n",
    "            'gained_asset': 'ativos_adquiridos',\n",
    "            'durable_asset': 'ativos_duraveis',\n",
    "            'save_asset': 'ativos_poupados',\n",
    "            'living_expenses': 'despesas_moradia',\n",
    "            'other_expenses': 'outras_despesas',\n",
    "            'incoming_salary': 'renda_salario',\n",
    "            'incoming_own_farm': 'renda_fazenda_propria',\n",
    "            'incoming_business': 'renda_negocios',\n",
    "            'incoming_no_business': 'renda_sem_negocio',\n",
    "            'incoming_agricultural': 'renda_agricola',\n",
    "            'farm_expenses': 'despesas_fazenda',\n",
    "            'labor_primary': 'trabalho_principal',\n",
    "            'lasting_investment': 'investimento_duradouro',\n",
    "            'no_lasting_investmen': 'sem_investimento_duradouro',\n",
    "            'depressed': 'depressao'\n",
    "            }\n",
    "\n",
    "df_depressao.rename(columns=rename_df, inplace=True)\n",
    "df_depressao.columns\n"
   ]
  },
  {
   "cell_type": "markdown",
   "metadata": {},
   "source": [
    "## Removendo Colunas Desnecessarias"
   ]
  },
  {
   "cell_type": "code",
   "execution_count": 4,
   "metadata": {},
   "outputs": [
    {
     "data": {
      "text/plain": [
       "Index(['genero', 'idade', 'casado', 'numero_filhos', 'nivel_educacao',\n",
       "       'membros_familia', 'ativos_adquiridos', 'ativos_duraveis',\n",
       "       'ativos_poupados', 'despesas_moradia', 'outras_despesas',\n",
       "       'renda_salario', 'renda_fazenda_propria', 'renda_negocios',\n",
       "       'renda_sem_negocio', 'renda_agricola', 'despesas_fazenda',\n",
       "       'trabalho_principal', 'investimento_duradouro',\n",
       "       'sem_investimento_duradouro', 'depressao'],\n",
       "      dtype='object')"
      ]
     },
     "execution_count": 4,
     "metadata": {},
     "output_type": "execute_result"
    }
   ],
   "source": [
    "\n",
    "df_depressao.drop(['id_pesquisa', 'id_cidade'], axis=1, inplace=True)\n",
    "\n",
    "df_depressao.columns\n"
   ]
  },
  {
   "cell_type": "markdown",
   "metadata": {},
   "source": [
    "## Removendo Valores Vazios do Dataframe"
   ]
  },
  {
   "cell_type": "code",
   "execution_count": 5,
   "metadata": {},
   "outputs": [
    {
     "data": {
      "text/plain": [
       "genero                        1409\n",
       "idade                         1409\n",
       "casado                        1409\n",
       "numero_filhos                 1409\n",
       "nivel_educacao                1409\n",
       "membros_familia               1409\n",
       "ativos_adquiridos             1409\n",
       "ativos_duraveis               1409\n",
       "ativos_poupados               1409\n",
       "despesas_moradia              1409\n",
       "outras_despesas               1409\n",
       "renda_salario                 1409\n",
       "renda_fazenda_propria         1409\n",
       "renda_negocios                1409\n",
       "renda_sem_negocio             1409\n",
       "renda_agricola                1409\n",
       "despesas_fazenda              1409\n",
       "trabalho_principal            1409\n",
       "investimento_duradouro        1409\n",
       "sem_investimento_duradouro    1409\n",
       "depressao                     1409\n",
       "dtype: int64"
      ]
     },
     "execution_count": 5,
     "metadata": {},
     "output_type": "execute_result"
    }
   ],
   "source": [
    "df_depressao = df_depressao.dropna()\n",
    "\n",
    "df_depressao.count()"
   ]
  },
  {
   "cell_type": "markdown",
   "metadata": {},
   "source": [
    "## Removendo Dados Enviesados do Dataframe\n"
   ]
  },
  {
   "cell_type": "code",
   "execution_count": 6,
   "metadata": {},
   "outputs": [
    {
     "data": {
      "text/plain": [
       "depressao\n",
       "1    235\n",
       "0    235\n",
       "Name: count, dtype: int64"
      ]
     },
     "execution_count": 6,
     "metadata": {},
     "output_type": "execute_result"
    }
   ],
   "source": [
    "df_depressao['depressao'].value_counts()\n",
    "# depressao\n",
    "# 0    1174\n",
    "# 1     235\n",
    "\n",
    "# 939\n",
    "\n",
    "linhas_a_serem_removidas = df_depressao[df_depressao['depressao'] == 0].head(939)\n",
    "df_depressao.drop(linhas_a_serem_removidas.index, inplace=True)\n",
    "\n",
    "df_depressao['depressao'].value_counts()\n"
   ]
  },
  {
   "cell_type": "markdown",
   "metadata": {},
   "source": [
    "# Preparando Dados"
   ]
  },
  {
   "cell_type": "markdown",
   "metadata": {},
   "source": [
    "## Separando o rotulo y dos dados x"
   ]
  },
  {
   "cell_type": "code",
   "execution_count": 7,
   "metadata": {},
   "outputs": [],
   "source": [
    "\n",
    "df_depressao.head()\n",
    "\n",
    "y = df_depressao['depressao']\n",
    "\n",
    "df_depressao.drop(['depressao'], axis=1, inplace=True)\n",
    "\n",
    "\n",
    "\n",
    "y = np.array(y)"
   ]
  },
  {
   "cell_type": "code",
   "execution_count": 8,
   "metadata": {},
   "outputs": [],
   "source": [
    "\n",
    "df_depressao\n",
    "\n",
    "scaler = StandardScaler()\n",
    "x = scaler.fit_transform(df_depressao)\n",
    "\n",
    "\n",
    "# 232"
   ]
  },
  {
   "cell_type": "markdown",
   "metadata": {},
   "source": [
    "# Treinando o modelo"
   ]
  },
  {
   "cell_type": "markdown",
   "metadata": {},
   "source": [
    "## Metricas do modelo com seed = 30"
   ]
  },
  {
   "cell_type": "code",
   "execution_count": 13,
   "metadata": {},
   "outputs": [
    {
     "name": "stdout",
     "output_type": "stream",
     "text": [
      "(470, 20)\n",
      "(470,)\n"
     ]
    },
    {
     "data": {
      "text/plain": [
       "array([0.57117244, 0.60847988, 0.63298695, 0.33712352, 0.61288159,\n",
       "       0.4873406 , 0.38334563, 0.50295064, 0.6024469 , 0.52403437,\n",
       "       0.54367138, 0.47062133, 0.46898944, 0.50489772, 0.24249638,\n",
       "       0.65198322, 0.48431823, 0.50236928, 0.38644261, 0.60070259,\n",
       "       0.92806344, 0.60723117, 0.49866174, 0.46952803, 0.55980959,\n",
       "       0.50457204, 0.37395699, 0.4722665 , 0.41561972, 0.57596209,\n",
       "       0.4465844 , 0.63704682, 0.51477762, 0.46404066, 0.50111662,\n",
       "       0.49259754, 0.41811103, 0.4530793 , 0.42019297, 0.63598893,\n",
       "       0.55027727, 0.44725221, 0.576822  , 0.49799859, 0.75322683,\n",
       "       0.50645277, 0.5054551 , 0.5910087 , 0.51632989, 0.5057379 ,\n",
       "       0.39416305, 0.51334661, 0.51224745, 0.42229824, 0.39852405,\n",
       "       0.47548395, 0.5039254 , 0.50296721, 0.22448135, 0.2791373 ,\n",
       "       0.61131143, 0.82624881, 0.42771449, 0.60155729, 0.57869353,\n",
       "       0.57578036, 0.65059701, 0.46606237, 0.47051529, 0.61195303,\n",
       "       0.4860284 , 0.32352335, 0.58673172, 0.6550084 , 0.53791081,\n",
       "       0.37037195, 0.41919114, 0.52128572, 0.47261968, 0.47886044,\n",
       "       0.58869771, 0.60306638, 0.54553322, 0.57118652, 0.2352081 ,\n",
       "       0.49718225, 0.34120557, 0.47035203, 0.49445999, 0.53295136,\n",
       "       0.40963489, 0.8453457 , 0.7947861 , 0.45002524, 0.58627357,\n",
       "       0.51367375, 0.5474871 , 0.51353814, 0.50585959, 0.82579024,\n",
       "       0.53347412, 0.50899573, 0.61659604, 0.52746106, 0.49971203,\n",
       "       0.32860985, 0.51336645, 0.2758285 , 0.28287644, 0.60654632,\n",
       "       0.63467331, 0.84766693, 0.44146273, 0.57319754, 0.398007  ,\n",
       "       0.4643247 , 0.5794249 , 0.40631411])"
      ]
     },
     "execution_count": 13,
     "metadata": {},
     "output_type": "execute_result"
    }
   ],
   "source": [
    "seed = 30\n",
    "\n",
    "print(x.shape)\n",
    "print(y.shape)\n",
    "\n",
    "x_train, x_test, y_train, y_test = train_test_split(x, y, test_size=0.25, stratify=y, random_state=seed)\n",
    "\n",
    "# Criando o modelo de regressão linear\n",
    "model = LinearRegression()\n",
    "\n",
    "# Treinando o modelo com os dados de treino\n",
    "model.fit(x_train, y_train)\n",
    "\n",
    "# Fazendo previsões com os dados de teste\n",
    "pred = model.predict(x_test)\n",
    "pred\n",
    "\n",
    "\n",
    "# acuracia = accuracy_score(y_test, pred)\n",
    "# acuracia = acuracia * 100\n",
    "\n",
    "# recall = recall_score(y_test, pred)\n",
    "# recall = recall * 100\n",
    "\n",
    "# precisao = precision_score(y_test, pred)\n",
    "# precisao = precisao * 100\n",
    "\n",
    "# f1 = f1_score(y_test, pred)\n",
    "# f1 = f1 * 100\n",
    "\n",
    "# mae = mean_absolute_error(y_test, pred)\n",
    "# mae = mae * 100\n",
    "\n",
    "# mse = mean_squared_error(y_test, pred)\n",
    "# mse = mse * 100\n",
    "\n",
    "# rmse = np.sqrt(mse)\n",
    "# rmse \n",
    "\n",
    "\n",
    "# print('========== Metricas do modelo ==========')\n",
    "# print(f'Acuracia: {acuracia:.0f}%')\n",
    "# print(f'Recall: {recall:.0f}%')\n",
    "# print(f'Precisao: {precisao:.2f}%')\n",
    "# print(f'F1-score: {f1:.2f}%')\n",
    "# print(f\"Erro Absoluto Médio (MAE): {mae:.0f}%\",)\n",
    "# print(f\"Erro Quadrático Médio (MSE): {mse:.0f}%\")\n",
    "# print(f\"Raiz do Erro Quadrático Médio (RMSE): {rmse:.2f}\")\n",
    "\n",
    "# # Plotando os dados e a linha de regressão\n",
    "# plt.scatter(x, y, color='blue', label='Dados reais')\n",
    "# plt.plot(x, model.predict(x), color='red', label='Regressão Linear')\n",
    "# plt.xlabel('Variável independente')\n",
    "# plt.ylabel('Variável dependente')\n",
    "# plt.legend()\n",
    "# plt.title('Regressão Linear em Python')\n",
    "# plt.show()"
   ]
  }
 ],
 "metadata": {
  "kernelspec": {
   "display_name": "Python 3",
   "language": "python",
   "name": "python3"
  },
  "language_info": {
   "codemirror_mode": {
    "name": "ipython",
    "version": 3
   },
   "file_extension": ".py",
   "mimetype": "text/x-python",
   "name": "python",
   "nbconvert_exporter": "python",
   "pygments_lexer": "ipython3",
   "version": "3.11.5"
  }
 },
 "nbformat": 4,
 "nbformat_minor": 2
}
