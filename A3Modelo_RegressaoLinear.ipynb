{
 "cells": [
  {
   "cell_type": "markdown",
   "metadata": {},
   "source": [
    "# Modelo de Classificação de Depressão em Áreas Rurais\n",
    "\n",
    "- Dataset para o desenvolvemento pego na plataforma [Kaggle](https://www.kaggle.com/datasets/diegobabativa/depression).\n"
   ]
  },
  {
   "cell_type": "code",
   "execution_count": null,
   "metadata": {},
   "outputs": [],
   "source": [
    "import pandas as pd\n",
    "import numpy as np\n",
    "import seaborn as sns\n",
    "import matplotlib.pyplot as plt\n",
    "from sklearn.preprocessing import MinMaxScaler, StandardScaler\n",
    "from sklearn.model_selection import train_test_split\n",
    "from sklearn.metrics import confusion_matrix, accuracy_score, precision_score, recall_score, f1_score\n",
    "from sklearn.metrics import mean_absolute_error, mean_squared_error\n",
    "from sklearn.preprocessing import LabelEncoder\n",
    "from sklearn.neighbors import KNeighborsClassifier\n",
    "import matplotlib.pyplot as plt\n",
    "from sklearn.metrics import roc_curve, roc_auc_score\n",
    "from sklearn.linear_model import LinearRegression\n",
    "# %matplotlib inline\n"
   ]
  },
  {
   "cell_type": "markdown",
   "metadata": {},
   "source": [
    "# Lendo o Dataset"
   ]
  },
  {
   "cell_type": "code",
   "execution_count": null,
   "metadata": {},
   "outputs": [],
   "source": [
    "\n",
    "URL = 'https://gist.githubusercontent.com/Ronildo22/a8983b7543c364534c75d6add6fc8413/raw/767bec26dbf90a2467380aba7d6f71a0820bc37e/depressionDataset'\n",
    "df_depressao = pd.read_csv(URL)\n",
    "\n",
    "df_depressao.shape\n"
   ]
  },
  {
   "cell_type": "markdown",
   "metadata": {},
   "source": [
    "## Renomeando o cabeçalho do Dataframe"
   ]
  },
  {
   "cell_type": "code",
   "execution_count": null,
   "metadata": {},
   "outputs": [],
   "source": [
    "\n",
    "rename_df = {\n",
    "            'Survey_id': 'id_pesquisa',\n",
    "            'Ville_id': 'id_cidade',\n",
    "            'sex': 'genero',\n",
    "            'Age': 'idade',\n",
    "            'Married': 'casado',\n",
    "            'Number_children': 'numero_filhos',\n",
    "            'education_level': 'nivel_educacao',\n",
    "            'total_members': 'membros_familia',\n",
    "            'gained_asset': 'ativos_adquiridos',\n",
    "            'durable_asset': 'ativos_duraveis',\n",
    "            'save_asset': 'ativos_poupados',\n",
    "            'living_expenses': 'despesas_moradia',\n",
    "            'other_expenses': 'outras_despesas',\n",
    "            'incoming_salary': 'renda_salario',\n",
    "            'incoming_own_farm': 'renda_fazenda_propria',\n",
    "            'incoming_business': 'renda_negocios',\n",
    "            'incoming_no_business': 'renda_sem_negocio',\n",
    "            'incoming_agricultural': 'renda_agricola',\n",
    "            'farm_expenses': 'despesas_fazenda',\n",
    "            'labor_primary': 'trabalho_principal',\n",
    "            'lasting_investment': 'investimento_duradouro',\n",
    "            'no_lasting_investmen': 'sem_investimento_duradouro',\n",
    "            'depressed': 'depressao'\n",
    "            }\n",
    "\n",
    "df_depressao.rename(columns=rename_df, inplace=True)\n",
    "df_depressao.columns\n"
   ]
  },
  {
   "cell_type": "markdown",
   "metadata": {},
   "source": [
    "## Removendo Colunas Desnecessarias"
   ]
  },
  {
   "cell_type": "code",
   "execution_count": null,
   "metadata": {},
   "outputs": [],
   "source": [
    "\n",
    "df_depressao.drop(['id_pesquisa', 'id_cidade'], axis=1, inplace=True)\n",
    "\n",
    "df_depressao.columns\n"
   ]
  },
  {
   "cell_type": "markdown",
   "metadata": {},
   "source": [
    "## Removendo Valores Vazios do Dataframe"
   ]
  },
  {
   "cell_type": "code",
   "execution_count": null,
   "metadata": {},
   "outputs": [],
   "source": [
    "df_depressao = df_depressao.dropna()\n",
    "\n",
    "df_depressao.count()"
   ]
  },
  {
   "cell_type": "markdown",
   "metadata": {},
   "source": [
    "## Removendo Dados Enviesados do Dataframe"
   ]
  },
  {
   "cell_type": "code",
   "execution_count": null,
   "metadata": {},
   "outputs": [],
   "source": [
    "\n",
    "filtro = (\n",
    "    (df_depressao['casado'] != 0) &\n",
    "    (df_depressao['genero'] != 0) &\n",
    "    (df_depressao['renda_salario'] != 1) &\n",
    "    (df_depressao['renda_fazenda_propria'] != 1) &\n",
    "    (df_depressao['renda_negocios'] != 1) &\n",
    "    (df_depressao['renda_sem_negocio'] != 1) &\n",
    "    (df_depressao['trabalho_principal'] != 1) &\n",
    "    (df_depressao['depressao'] == 0)\n",
    ")\n",
    "\n",
    "linhas_a_serem_removidas = df_depressao[filtro]\n",
    "df_depressao.drop(linhas_a_serem_removidas.index, inplace=True)\n",
    "\n",
    "# RESENTANDO O INDICE DO DATAFRAME\n",
    "df_depressao.reset_index(drop=True, inplace=True)\n",
    "\n",
    "# VALOR ABSOLUTO QUE CADA COLUNA TEM QUE TER \n",
    "valor_absoluto = 230"
   ]
  },
  {
   "cell_type": "markdown",
   "metadata": {},
   "source": [
    "### Removendo vies na coluna 'casado'"
   ]
  },
  {
   "cell_type": "code",
   "execution_count": null,
   "metadata": {},
   "outputs": [],
   "source": [
    "cl_casado = df_depressao['casado']\n",
    "\n",
    "lista_index_casado = []\n",
    "\n",
    "cl_casado_value_0 = cl_casado.value_counts()[0]\n",
    "cl_casado_value_1 = cl_casado.value_counts()[1]\n",
    "quant_vies_remover = (cl_casado_value_1 - cl_casado_value_0) - 1\n",
    "\n",
    "cl_casado.reset_index(drop=True, inplace=True)\n",
    "\n",
    "i = 0\n",
    "for index, valor in enumerate(cl_casado):\n",
    "\n",
    "    if valor == 1 and i <= quant_vies_remover:\n",
    "\n",
    "        lista_index_casado.append(index)\n",
    "        cl_casado.drop(index=[index], inplace=True)\n",
    "        i += 1\n",
    "\n",
    "valor_atual = cl_casado.count()\n",
    "\n",
    "quatidade_remover = valor_atual - valor_absoluto\n",
    "quatidade_remover = quatidade_remover / 2\n",
    "\n",
    "linhas_a_serem_removidas = cl_casado[cl_casado == 0].head(int(quatidade_remover))\n",
    "cl_casado.drop(linhas_a_serem_removidas.index, inplace=True)\n",
    "\n",
    "linhas_a_serem_removidas = cl_casado[cl_casado == 1].head(int(quatidade_remover))\n",
    "cl_casado.drop(linhas_a_serem_removidas.index, inplace=True)\n",
    "\n",
    "print(cl_casado.value_counts())\n",
    "print(cl_casado.count())\n"
   ]
  },
  {
   "cell_type": "markdown",
   "metadata": {},
   "source": [
    "### Removendo vies na coluna 'genero'"
   ]
  },
  {
   "cell_type": "code",
   "execution_count": null,
   "metadata": {},
   "outputs": [],
   "source": [
    "cl_genero = df_depressao['genero']\n",
    "\n",
    "lista_index_genero = []\n",
    "\n",
    "cl_genero_value_0 = cl_genero.value_counts()[0]\n",
    "cl_genero_value_1 = cl_genero.value_counts()[1]\n",
    "quant_vies_remover = (cl_genero_value_1 - cl_genero_value_0) - 1\n",
    "\n",
    "i = 0\n",
    "for index, valor in enumerate(cl_genero):\n",
    "\n",
    "    if valor == 1 and i <= quant_vies_remover:\n",
    "\n",
    "        lista_index_genero.append(index)\n",
    "        cl_genero.drop(index=[index], inplace=True)\n",
    "        i += 1\n",
    "\n",
    "print(cl_genero.value_counts())\n",
    "print(cl_genero.count())"
   ]
  },
  {
   "cell_type": "markdown",
   "metadata": {},
   "source": [
    "### Removendo vies da coluna 'renda_salario'"
   ]
  },
  {
   "cell_type": "code",
   "execution_count": null,
   "metadata": {},
   "outputs": [],
   "source": [
    "\n",
    "cl_renda_salario = df_depressao['renda_salario']\n",
    "\n",
    "lista_index_renda_salario = []\n",
    "\n",
    "cl_renda_salario_value_0 = cl_renda_salario.value_counts()[0]\n",
    "cl_renda_salario_value_1 = cl_renda_salario.value_counts()[1]\n",
    "quant_vies_remover = (cl_renda_salario_value_0 - cl_renda_salario_value_1) - 1\n",
    "\n",
    "i = 0\n",
    "for index, valor in enumerate(cl_renda_salario):\n",
    "\n",
    "    if valor == 0 and i <= quant_vies_remover:\n",
    "\n",
    "        lista_index_renda_salario.append(index)\n",
    "        cl_renda_salario.drop(index=[index], inplace=True)\n",
    "        i += 1\n",
    "\n",
    "valor_atual = cl_renda_salario.count()\n",
    "\n",
    "quatidade_remover = valor_atual - valor_absoluto\n",
    "quatidade_remover = quatidade_remover / 2\n",
    "\n",
    "linhas_a_serem_removidas = cl_renda_salario[cl_renda_salario == 0].head(int(quatidade_remover))\n",
    "cl_renda_salario.drop(linhas_a_serem_removidas.index, inplace=True)\n",
    "\n",
    "linhas_a_serem_removidas = cl_renda_salario[cl_renda_salario == 1].head(int(quatidade_remover))\n",
    "cl_renda_salario.drop(linhas_a_serem_removidas.index, inplace=True)\n",
    "\n",
    "print(cl_renda_salario.value_counts())\n",
    "print(cl_renda_salario.count())\n"
   ]
  },
  {
   "cell_type": "markdown",
   "metadata": {},
   "source": [
    "### Removendo vies na coluna 'renda_fazenda_propria'"
   ]
  },
  {
   "cell_type": "code",
   "execution_count": null,
   "metadata": {},
   "outputs": [],
   "source": [
    "\n",
    "cl_renda_fazenda_propria = df_depressao['renda_fazenda_propria']\n",
    "\n",
    "lista_index_renda_fazenda_propria = []\n",
    "\n",
    "cl_renda_fazenda_propria_value_0 = cl_renda_fazenda_propria.value_counts()[0]\n",
    "cl_renda_fazenda_propria_value_1 = cl_renda_fazenda_propria.value_counts()[1]\n",
    "\n",
    "quant_vies_remover = (cl_renda_fazenda_propria_value_0 - cl_renda_fazenda_propria_value_1) - 1\n",
    "\n",
    "i = 0\n",
    "for index, valor in enumerate(cl_renda_fazenda_propria):\n",
    "\n",
    "    if valor == 0 and i <= quant_vies_remover:\n",
    "\n",
    "        lista_index_renda_fazenda_propria.append(index)\n",
    "        cl_renda_fazenda_propria.drop(index=[index], inplace=True)\n",
    "        i += 1\n",
    "\n",
    "valor_atual = cl_renda_fazenda_propria.count()\n",
    "\n",
    "quatidade_remover = valor_atual - valor_absoluto\n",
    "quatidade_remover = quatidade_remover / 2\n",
    "\n",
    "linhas_a_serem_removidas = cl_renda_fazenda_propria[cl_renda_fazenda_propria == 0].head(int(quatidade_remover))\n",
    "cl_renda_fazenda_propria.drop(linhas_a_serem_removidas.index, inplace=True)\n",
    "\n",
    "linhas_a_serem_removidas = cl_renda_fazenda_propria[cl_renda_fazenda_propria == 1].head(int(quatidade_remover))\n",
    "cl_renda_fazenda_propria.drop(linhas_a_serem_removidas.index, inplace=True)\n",
    "\n",
    "print(cl_renda_fazenda_propria.value_counts())\n",
    "print(cl_renda_fazenda_propria.count())\n"
   ]
  },
  {
   "cell_type": "markdown",
   "metadata": {},
   "source": [
    "### Removendo vies na coluna 'renda_negocios'"
   ]
  },
  {
   "cell_type": "code",
   "execution_count": null,
   "metadata": {},
   "outputs": [],
   "source": [
    "\n",
    "cl_renda_negocios = df_depressao['renda_negocios']\n",
    "\n",
    "lista_index_renda_negocios = []\n",
    "\n",
    "cl_renda_negocios_value_0 = cl_renda_negocios.value_counts()[0]\n",
    "cl_renda_negocios_value_1 = cl_renda_negocios.value_counts()[1]\n",
    "\n",
    "quant_vies_remover = (cl_renda_negocios_value_0 - cl_renda_negocios_value_1) - 1\n",
    "\n",
    "i = 0\n",
    "for index, valor in enumerate(cl_renda_negocios):\n",
    "\n",
    "    if valor == 0 and i <= quant_vies_remover:\n",
    "\n",
    "        lista_index_renda_negocios.append(index)\n",
    "        cl_renda_negocios.drop(index=[index], inplace=True)\n",
    "        i += 1\n",
    "\n",
    "valor_atual = cl_renda_negocios.count()\n",
    "\n",
    "quatidade_remover = valor_atual - valor_absoluto\n",
    "quatidade_remover = quatidade_remover / 2\n",
    "\n",
    "linhas_a_serem_removidas = cl_renda_negocios[cl_renda_negocios == 0].head(int(quatidade_remover))\n",
    "cl_renda_negocios.drop(linhas_a_serem_removidas.index, inplace=True)\n",
    "\n",
    "linhas_a_serem_removidas = cl_renda_negocios[cl_renda_negocios == 1].head(int(quatidade_remover))\n",
    "cl_renda_negocios.drop(linhas_a_serem_removidas.index, inplace=True)\n",
    "\n",
    "print(cl_renda_negocios.value_counts())\n",
    "print(cl_renda_negocios.count()) "
   ]
  },
  {
   "cell_type": "markdown",
   "metadata": {},
   "source": [
    "### Removendo vies da coluna 'renda_sem_negocio'"
   ]
  },
  {
   "cell_type": "code",
   "execution_count": null,
   "metadata": {},
   "outputs": [],
   "source": [
    "\n",
    "cl_renda_sem_negocio = df_depressao['renda_sem_negocio']\n",
    "\n",
    "lista_index_renda_sem_negocio = []\n",
    "\n",
    "cl_renda_sem_negocio_value_0 = cl_renda_sem_negocio.value_counts()[0]\n",
    "cl_renda_sem_negocio_value_1 = cl_renda_sem_negocio.value_counts()[1]\n",
    "\n",
    "quant_vies_remover = (cl_renda_sem_negocio_value_0 - cl_renda_sem_negocio_value_1) - 1\n",
    "\n",
    "i = 0\n",
    "for index, valor in enumerate(cl_renda_sem_negocio):\n",
    "\n",
    "    if valor == 0 and i <= quant_vies_remover:\n",
    "\n",
    "        lista_index_renda_sem_negocio.append(index)\n",
    "        cl_renda_sem_negocio.drop(index=[index], inplace=True)\n",
    "        i += 1\n",
    "\n",
    "print(cl_renda_sem_negocio.value_counts())\n",
    "\n",
    "valor_atual = cl_renda_sem_negocio.count()\n",
    "\n",
    "quatidade_remover = valor_atual - valor_absoluto\n",
    "quatidade_remover = quatidade_remover / 2\n",
    "\n",
    "linhas_a_serem_removidas = cl_renda_sem_negocio[cl_renda_sem_negocio == 0].head(int(quatidade_remover))\n",
    "cl_renda_sem_negocio.drop(linhas_a_serem_removidas.index, inplace=True)\n",
    "\n",
    "linhas_a_serem_removidas = cl_renda_sem_negocio[cl_renda_sem_negocio == 1].head(int(quatidade_remover))\n",
    "cl_renda_sem_negocio.drop(linhas_a_serem_removidas.index, inplace=True)\n",
    "\n",
    "print(cl_renda_sem_negocio.value_counts())\n",
    "print(cl_renda_sem_negocio.count())"
   ]
  },
  {
   "cell_type": "markdown",
   "metadata": {},
   "source": [
    "### Removendo vies na coluna 'trabalho_principal'"
   ]
  },
  {
   "cell_type": "code",
   "execution_count": null,
   "metadata": {},
   "outputs": [],
   "source": [
    "\n",
    "cl_trabalho_principal = df_depressao['trabalho_principal']\n",
    "\n",
    "lista_index_trabalho_principal = []\n",
    "\n",
    "cl_trabalho_principal_value_0 = cl_trabalho_principal.value_counts()[0]\n",
    "cl_trabalho_principal_value_1 = cl_trabalho_principal.value_counts()[1]\n",
    "\n",
    "quant_vies_remover = (cl_trabalho_principal_value_0 - cl_trabalho_principal_value_1) - 1\n",
    "\n",
    "i = 0\n",
    "for index, valor in enumerate(cl_trabalho_principal):\n",
    "\n",
    "    if valor == 0 and i <= quant_vies_remover:\n",
    "\n",
    "        lista_index_trabalho_principal.append(index)\n",
    "        cl_trabalho_principal.drop(index=[index], inplace=True)\n",
    "        i += 1\n",
    "\n",
    "print(cl_trabalho_principal.value_counts())\n",
    "\n",
    "valor_atual = cl_trabalho_principal.count()\n",
    "\n",
    "quatidade_remover = valor_atual - valor_absoluto\n",
    "quatidade_remover = quatidade_remover / 2\n",
    "\n",
    "linhas_a_serem_removidas = cl_trabalho_principal[cl_trabalho_principal == 0].head(int(quatidade_remover))\n",
    "cl_trabalho_principal.drop(linhas_a_serem_removidas.index, inplace=True)\n",
    "\n",
    "linhas_a_serem_removidas = cl_trabalho_principal[cl_trabalho_principal == 1].head(int(quatidade_remover))\n",
    "cl_trabalho_principal.drop(linhas_a_serem_removidas.index, inplace=True)\n",
    "\n",
    "print(cl_trabalho_principal.value_counts())\n",
    "print(cl_trabalho_principal.count())\n"
   ]
  },
  {
   "cell_type": "markdown",
   "metadata": {},
   "source": [
    "### Removendo vies na coluna 'depressao'"
   ]
  },
  {
   "cell_type": "code",
   "execution_count": null,
   "metadata": {},
   "outputs": [],
   "source": [
    "\n",
    "cl_depressao = df_depressao['depressao']\n",
    "\n",
    "lista_index_depressao = []\n",
    "\n",
    "cl_depressao_value_0 = cl_depressao.value_counts()[0]\n",
    "cl_depressao_value_1 = cl_depressao.value_counts()[1]\n",
    "\n",
    "quant_vies_remover = (cl_depressao_value_0 - cl_depressao_value_1) - 1\n",
    "\n",
    "i = 0\n",
    "for index, valor in enumerate(cl_depressao):\n",
    "\n",
    "    if valor == 0 and i <= quant_vies_remover:\n",
    "\n",
    "        lista_index_depressao.append(index)\n",
    "        cl_depressao.drop(index=[index], inplace=True)\n",
    "        i += 1\n",
    "\n",
    "print(cl_depressao.value_counts())\n",
    "\n",
    "valor_atual = cl_depressao.count()\n",
    "\n",
    "quatidade_remover = valor_atual - valor_absoluto\n",
    "quatidade_remover = quatidade_remover / 2\n",
    "\n",
    "linhas_a_serem_removidas = cl_depressao[cl_depressao == 0].head(int(quatidade_remover))\n",
    "cl_depressao.drop(linhas_a_serem_removidas.index, inplace=True)\n",
    "\n",
    "linhas_a_serem_removidas = cl_depressao[cl_depressao == 1].head(int(quatidade_remover))\n",
    "cl_depressao.drop(linhas_a_serem_removidas.index, inplace=True)\n",
    "\n",
    "print(cl_depressao.value_counts())\n",
    "print(cl_depressao.count())\n"
   ]
  },
  {
   "cell_type": "markdown",
   "metadata": {},
   "source": [
    "### Adicionando as mudanças no DataFrame"
   ]
  },
  {
   "cell_type": "code",
   "execution_count": null,
   "metadata": {},
   "outputs": [],
   "source": [
    "\n",
    "df_depressao.drop(columns=['casado', 'genero', 'renda_salario', 'renda_fazenda_propria', 'renda_negocios',\n",
    "                           'renda_sem_negocio', 'trabalho_principal', 'depressao'], inplace=True)\n",
    "\n",
    "cl_casado = cl_casado.dropna()\n",
    "cl_casado.reset_index(drop=True, inplace=True)\n",
    "\n",
    "cl_genero = cl_genero.dropna()\n",
    "cl_genero.reset_index(drop=True, inplace=True)\n",
    "\n",
    "cl_renda_salario = cl_renda_salario.dropna()\n",
    "cl_renda_salario.reset_index(drop=True, inplace=True)\n",
    "\n",
    "cl_renda_fazenda_propria = cl_renda_fazenda_propria.dropna()\n",
    "cl_renda_fazenda_propria.reset_index(drop=True, inplace=True)\n",
    "\n",
    "cl_renda_negocios = cl_renda_negocios.dropna()\n",
    "cl_renda_negocios.reset_index(drop=True, inplace=True)\n",
    "\n",
    "cl_renda_sem_negocio = cl_renda_sem_negocio.dropna()\n",
    "cl_renda_sem_negocio.reset_index(drop=True, inplace=True)\n",
    "\n",
    "cl_trabalho_principal = cl_trabalho_principal.dropna()\n",
    "cl_trabalho_principal.reset_index(drop=True, inplace=True)\n",
    "\n",
    "cl_depressao = cl_depressao.dropna()\n",
    "cl_depressao.reset_index(drop=True, inplace=True)\n",
    "\n",
    "df_depressao['casado'] = cl_casado\n",
    "df_depressao['genero'] = cl_genero\n",
    "df_depressao['renda_salario'] = cl_renda_salario\n",
    "df_depressao['renda_fazenda_propria'] = cl_renda_fazenda_propria\n",
    "df_depressao['renda_negocios'] = cl_renda_negocios\n",
    "df_depressao['renda_sem_negocio'] = cl_renda_sem_negocio\n",
    "df_depressao['trabalho_principal'] = cl_trabalho_principal\n",
    "df_depressao['depressao'] = cl_depressao\n",
    "\n",
    "df_depressao = df_depressao.dropna()\n",
    "\n",
    "print(df_depressao.count())\n",
    "\n",
    "print(df_depressao['casado'].value_counts())\n",
    "print(df_depressao['genero'].value_counts())\n",
    "print(df_depressao['renda_salario'].value_counts())\n",
    "print(df_depressao['renda_fazenda_propria'].value_counts())\n",
    "print(df_depressao['renda_negocios'].value_counts())\n",
    "print(df_depressao['renda_sem_negocio'].value_counts())\n",
    "print(df_depressao['trabalho_principal'].value_counts())\n",
    "print(df_depressao['depressao'].value_counts())\n"
   ]
  },
  {
   "cell_type": "markdown",
   "metadata": {},
   "source": [
    "# Preparando Dados"
   ]
  },
  {
   "cell_type": "markdown",
   "metadata": {},
   "source": [
    "## Separando o rotulo y dos dados x"
   ]
  },
  {
   "cell_type": "code",
   "execution_count": null,
   "metadata": {},
   "outputs": [],
   "source": [
    "\n",
    "df_depressao.head()\n",
    "\n",
    "y = df_depressao['depressao']\n",
    "\n",
    "df_depressao.drop(['depressao'], axis=1, inplace=True)\n",
    "\n",
    "\n",
    "\n",
    "y = np.array(y)"
   ]
  },
  {
   "cell_type": "markdown",
   "metadata": {},
   "source": [
    "# Deixando a feature x em uma faixa inicial de -1 a 1"
   ]
  },
  {
   "cell_type": "code",
   "execution_count": null,
   "metadata": {},
   "outputs": [],
   "source": [
    "\n",
    "df_depressao\n",
    "\n",
    "scaler = StandardScaler()\n",
    "x = scaler.fit_transform(df_depressao)\n"
   ]
  },
  {
   "cell_type": "markdown",
   "metadata": {},
   "source": [
    "# Treinando o modelo"
   ]
  },
  {
   "cell_type": "markdown",
   "metadata": {},
   "source": [
    "## Metricas do modelo com seed = 0"
   ]
  },
  {
   "cell_type": "code",
   "execution_count": null,
   "metadata": {},
   "outputs": [],
   "source": [
    "seed = 0\n",
    "\n",
    "x_train, x_test, y_train, y_test = train_test_split(x, y, test_size=0.25, stratify=y, random_state=seed)\n",
    "\n",
    "# Criando o modelo de regressão linear\n",
    "model = LinearRegression()\n",
    "\n",
    "# Treinando o modelo com os dados de treino\n",
    "model.fit(x_train, y_train)\n",
    "\n",
    "# Fazendo previsões com os dados de teste\n",
    "pred = model.predict(x_test)\n",
    "\n",
    "\n",
    "threshold = 0.5\n",
    "pred_binary = np.where(pred >= threshold, 1, 0)  # Aplicar o limiar para transformar em binário\n",
    "\n",
    "# Calculando e exibindo as métricas após a binarização das previsões\n",
    "accuracy = accuracy_score(y_test, pred_binary)\n",
    "precision = precision_score(y_test, pred_binary)\n",
    "recall = recall_score(y_test, pred_binary)\n",
    "auc = roc_auc_score(y_test, pred)  # AUC usando as previsões contínuas\n",
    "\n",
    "print(f'Acurácia: {accuracy:.2f}')\n",
    "print(f'Precisão: {precision:.2f}')\n",
    "print(f'Recall: {recall:.2f}')\n",
    "print(f'AUC: {auc:.2f}')\n",
    "\n",
    "# Curva ROC após a binarização das previsões\n",
    "fpr, tpr, thresholds = roc_curve(y_test, pred)\n",
    "plt.figure(figsize=(8, 6))\n",
    "plt.plot(fpr, tpr, label='ROC curve (area = %0.2f)' % auc)\n",
    "plt.plot([0, 1], [0, 1], 'k--')  # Linha diagonal\n",
    "plt.xlabel('False Positive Rate')\n",
    "plt.ylabel('True Positive Rate')\n",
    "plt.title('Receiver Operating Characteristic (ROC) Curve')\n",
    "plt.legend(loc='lower right')\n",
    "plt.show()\n",
    "\n",
    "\n",
    "# scaler = MinMaxScaler(feature_range=(0, 1))\n",
    "# pred_scaled = scaler.fit_transform(pred.reshape(-1, 1))\n",
    "\n",
    "# print(pred_scaled)\n",
    "\n",
    "# print(y_test)\n",
    "\n",
    "\n",
    "# acuracia = accuracy_score(y_test, pred_scaled)\n",
    "\n",
    "\n",
    "# recall = recall_score(y_test, pred)\n",
    "# recall = recall * 100\n",
    "\n",
    "# precisao = precision_score(y_test, pred)\n",
    "# precisao = precisao * 100\n",
    "\n",
    "# f1 = f1_score(y_test, pred)\n",
    "# f1 = f1 * 100\n",
    "\n",
    "# mae = mean_absolute_error(y_test, pred)\n",
    "# mae = mae * 100\n",
    "\n",
    "# mse = mean_squared_error(y_test, pred)\n",
    "# mse = mse * 100\n",
    "\n",
    "# rmse = np.sqrt(mse)\n",
    "# rmse \n",
    "\n",
    "\n",
    "# print('========== Metricas do modelo ==========')\n",
    "# print(f'Acuracia: {acuracia:.0f}%')\n",
    "# print(f'Recall: {recall:.0f}%')\n",
    "# print(f'Precisao: {precisao:.2f}%')\n",
    "# print(f'F1-score: {f1:.2f}%')\n",
    "# print(f\"Erro Absoluto Médio (MAE): {mae:.0f}%\",)\n",
    "# print(f\"Erro Quadrático Médio (MSE): {mse:.0f}%\")\n",
    "# print(f\"Raiz do Erro Quadrático Médio (RMSE): {rmse:.2f}\")\n",
    "\n",
    "# # Plotando os dados e a linha de regressão\n",
    "# plt.scatter(x, y, color='blue', label='Dados reais')\n",
    "# plt.plot(x, model.predict(x), color='red', label='Regressão Linear')\n",
    "# plt.xlabel('Variável independente')\n",
    "# plt.ylabel('Variável dependente')\n",
    "# plt.legend()\n",
    "# plt.title('Regressão Linear em Python')\n",
    "# plt.show()"
   ]
  }
 ],
 "metadata": {
  "kernelspec": {
   "display_name": "Python 3",
   "language": "python",
   "name": "python3"
  },
  "language_info": {
   "codemirror_mode": {
    "name": "ipython",
    "version": 3
   },
   "file_extension": ".py",
   "mimetype": "text/x-python",
   "name": "python",
   "nbconvert_exporter": "python",
   "pygments_lexer": "ipython3",
   "version": "3.11.5"
  }
 },
 "nbformat": 4,
 "nbformat_minor": 2
}
