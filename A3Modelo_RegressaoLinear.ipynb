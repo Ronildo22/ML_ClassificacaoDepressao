{
 "cells": [
  {
   "cell_type": "markdown",
   "metadata": {},
   "source": [
    "# Modelo de Classificação de Depressão em Áreas Rurais\n",
    "\n",
    "- Dataset para o desenvolvemento pego na plataforma [Kaggle](https://www.kaggle.com/datasets/diegobabativa/depression).\n"
   ]
  },
  {
   "cell_type": "code",
   "execution_count": 2,
   "metadata": {},
   "outputs": [],
   "source": [
    "import pandas as pd\n",
    "import numpy as np\n",
    "import seaborn as sns\n",
    "import matplotlib.pyplot as plt\n",
    "from sklearn.preprocessing import MinMaxScaler, StandardScaler\n",
    "from sklearn.model_selection import train_test_split\n",
    "from sklearn.metrics import confusion_matrix, accuracy_score, precision_score, recall_score, f1_score\n",
    "from sklearn.metrics import mean_absolute_error, mean_squared_error\n",
    "from sklearn.preprocessing import LabelEncoder\n",
    "from sklearn.neighbors import KNeighborsClassifier\n",
    "import matplotlib.pyplot as plt\n",
    "from sklearn.metrics import roc_curve, roc_auc_score\n",
    "from sklearn.linear_model import LinearRegression\n",
    "# %matplotlib inline\n"
   ]
  },
  {
   "cell_type": "markdown",
   "metadata": {},
   "source": [
    "# Lendo o Dataset"
   ]
  },
  {
   "cell_type": "code",
   "execution_count": 3,
   "metadata": {},
   "outputs": [
    {
     "data": {
      "text/plain": [
       "(1429, 23)"
      ]
     },
     "execution_count": 3,
     "metadata": {},
     "output_type": "execute_result"
    }
   ],
   "source": [
    "\n",
    "URL = 'https://gist.githubusercontent.com/Ronildo22/a8983b7543c364534c75d6add6fc8413/raw/767bec26dbf90a2467380aba7d6f71a0820bc37e/depressionDataset'\n",
    "df_depressao = pd.read_csv(URL)\n",
    "\n",
    "df_depressao.shape\n"
   ]
  },
  {
   "cell_type": "markdown",
   "metadata": {},
   "source": [
    "## Renomeando o cabeçalho do Dataframe"
   ]
  },
  {
   "cell_type": "code",
   "execution_count": 4,
   "metadata": {},
   "outputs": [
    {
     "data": {
      "text/plain": [
       "Index(['id_pesquisa', 'id_cidade', 'genero', 'idade', 'casado',\n",
       "       'numero_filhos', 'nivel_educacao', 'membros_familia',\n",
       "       'ativos_adquiridos', 'ativos_duraveis', 'ativos_poupados',\n",
       "       'despesas_moradia', 'outras_despesas', 'renda_salario',\n",
       "       'renda_fazenda_propria', 'renda_negocios', 'renda_sem_negocio',\n",
       "       'renda_agricola', 'despesas_fazenda', 'trabalho_principal',\n",
       "       'investimento_duradouro', 'sem_investimento_duradouro', 'depressao'],\n",
       "      dtype='object')"
      ]
     },
     "execution_count": 4,
     "metadata": {},
     "output_type": "execute_result"
    }
   ],
   "source": [
    "\n",
    "rename_df = {\n",
    "            'Survey_id': 'id_pesquisa',\n",
    "            'Ville_id': 'id_cidade',\n",
    "            'sex': 'genero',\n",
    "            'Age': 'idade',\n",
    "            'Married': 'casado',\n",
    "            'Number_children': 'numero_filhos',\n",
    "            'education_level': 'nivel_educacao',\n",
    "            'total_members': 'membros_familia',\n",
    "            'gained_asset': 'ativos_adquiridos',\n",
    "            'durable_asset': 'ativos_duraveis',\n",
    "            'save_asset': 'ativos_poupados',\n",
    "            'living_expenses': 'despesas_moradia',\n",
    "            'other_expenses': 'outras_despesas',\n",
    "            'incoming_salary': 'renda_salario',\n",
    "            'incoming_own_farm': 'renda_fazenda_propria',\n",
    "            'incoming_business': 'renda_negocios',\n",
    "            'incoming_no_business': 'renda_sem_negocio',\n",
    "            'incoming_agricultural': 'renda_agricola',\n",
    "            'farm_expenses': 'despesas_fazenda',\n",
    "            'labor_primary': 'trabalho_principal',\n",
    "            'lasting_investment': 'investimento_duradouro',\n",
    "            'no_lasting_investmen': 'sem_investimento_duradouro',\n",
    "            'depressed': 'depressao'\n",
    "            }\n",
    "\n",
    "df_depressao.rename(columns=rename_df, inplace=True)\n",
    "df_depressao.columns\n"
   ]
  },
  {
   "cell_type": "markdown",
   "metadata": {},
   "source": [
    "## Removendo Colunas Desnecessarias"
   ]
  },
  {
   "cell_type": "code",
   "execution_count": 5,
   "metadata": {},
   "outputs": [
    {
     "data": {
      "text/plain": [
       "Index(['genero', 'idade', 'casado', 'numero_filhos', 'nivel_educacao',\n",
       "       'membros_familia', 'ativos_adquiridos', 'ativos_duraveis',\n",
       "       'ativos_poupados', 'despesas_moradia', 'outras_despesas',\n",
       "       'renda_salario', 'renda_fazenda_propria', 'renda_negocios',\n",
       "       'renda_sem_negocio', 'renda_agricola', 'despesas_fazenda',\n",
       "       'trabalho_principal', 'investimento_duradouro',\n",
       "       'sem_investimento_duradouro', 'depressao'],\n",
       "      dtype='object')"
      ]
     },
     "execution_count": 5,
     "metadata": {},
     "output_type": "execute_result"
    }
   ],
   "source": [
    "\n",
    "df_depressao.drop(['id_pesquisa', 'id_cidade'], axis=1, inplace=True)\n",
    "\n",
    "df_depressao.columns\n"
   ]
  },
  {
   "cell_type": "markdown",
   "metadata": {},
   "source": [
    "## Removendo Valores Vazios do Dataframe"
   ]
  },
  {
   "cell_type": "code",
   "execution_count": 6,
   "metadata": {},
   "outputs": [
    {
     "data": {
      "text/plain": [
       "genero                        1409\n",
       "idade                         1409\n",
       "casado                        1409\n",
       "numero_filhos                 1409\n",
       "nivel_educacao                1409\n",
       "membros_familia               1409\n",
       "ativos_adquiridos             1409\n",
       "ativos_duraveis               1409\n",
       "ativos_poupados               1409\n",
       "despesas_moradia              1409\n",
       "outras_despesas               1409\n",
       "renda_salario                 1409\n",
       "renda_fazenda_propria         1409\n",
       "renda_negocios                1409\n",
       "renda_sem_negocio             1409\n",
       "renda_agricola                1409\n",
       "despesas_fazenda              1409\n",
       "trabalho_principal            1409\n",
       "investimento_duradouro        1409\n",
       "sem_investimento_duradouro    1409\n",
       "depressao                     1409\n",
       "dtype: int64"
      ]
     },
     "execution_count": 6,
     "metadata": {},
     "output_type": "execute_result"
    }
   ],
   "source": [
    "df_depressao = df_depressao.dropna()\n",
    "\n",
    "df_depressao.count()"
   ]
  },
  {
   "cell_type": "markdown",
   "metadata": {},
   "source": [
    "## Removendo Dados Enviesados do Dataframe\n"
   ]
  },
  {
   "cell_type": "code",
   "execution_count": 7,
   "metadata": {},
   "outputs": [
    {
     "data": {
      "text/plain": [
       "depressao\n",
       "1    235\n",
       "0    235\n",
       "Name: count, dtype: int64"
      ]
     },
     "execution_count": 7,
     "metadata": {},
     "output_type": "execute_result"
    }
   ],
   "source": [
    "df_depressao['depressao'].value_counts()\n",
    "# depressao\n",
    "# 0    1174\n",
    "# 1     235\n",
    "\n",
    "# 939\n",
    "\n",
    "linhas_a_serem_removidas = df_depressao[df_depressao['depressao'] == 0].head(939)\n",
    "df_depressao.drop(linhas_a_serem_removidas.index, inplace=True)\n",
    "\n",
    "df_depressao['depressao'].value_counts()\n"
   ]
  },
  {
   "cell_type": "markdown",
   "metadata": {},
   "source": [
    "# Preparando Dados"
   ]
  },
  {
   "cell_type": "markdown",
   "metadata": {},
   "source": [
    "## Separando o rotulo y dos dados x"
   ]
  },
  {
   "cell_type": "code",
   "execution_count": 8,
   "metadata": {},
   "outputs": [],
   "source": [
    "\n",
    "df_depressao.head()\n",
    "\n",
    "y = df_depressao['depressao']\n",
    "\n",
    "df_depressao.drop(['depressao'], axis=1, inplace=True)\n",
    "\n",
    "\n",
    "\n",
    "y = np.array(y)"
   ]
  },
  {
   "cell_type": "code",
   "execution_count": 9,
   "metadata": {},
   "outputs": [],
   "source": [
    "\n",
    "df_depressao\n",
    "\n",
    "scaler = StandardScaler()\n",
    "x = scaler.fit_transform(df_depressao)\n",
    "\n",
    "\n",
    "# 232"
   ]
  },
  {
   "cell_type": "markdown",
   "metadata": {},
   "source": [
    "# Treinando o modelo"
   ]
  },
  {
   "cell_type": "markdown",
   "metadata": {},
   "source": [
    "## Metricas do modelo com seed = 30"
   ]
  },
  {
   "cell_type": "code",
   "execution_count": 19,
   "metadata": {},
   "outputs": [
    {
     "name": "stdout",
     "output_type": "stream",
     "text": [
      "(470, 20)\n",
      "(470,)\n"
     ]
    },
    {
     "name": "stdout",
     "output_type": "stream",
     "text": [
      "Acurácia: 0.58\n",
      "Precisão: 0.57\n",
      "Recall: 0.64\n",
      "AUC: 0.60\n"
     ]
    },
    {
     "data": {
      "image/png": "[encoded data removed]",
      "text/plain": [
       "<Figure size 800x600 with 1 Axes>"
      ]
     },
     "metadata": {},
     "output_type": "display_data"
    }
   ],
   "source": [
    "seed = 30\n",
    "\n",
    "print(x.shape)\n",
    "print(y.shape)\n",
    "\n",
    "x_train, x_test, y_train, y_test = train_test_split(x, y, test_size=0.25, stratify=y, random_state=seed)\n",
    "\n",
    "# Criando o modelo de regressão linear\n",
    "model = LinearRegression()\n",
    "\n",
    "# Treinando o modelo com os dados de treino\n",
    "model.fit(x_train, y_train)\n",
    "\n",
    "# Fazendo previsões com os dados de teste\n",
    "pred = model.predict(x_test)\n",
    "\n",
    "\n",
    "threshold = 0.5\n",
    "pred_binary = np.where(pred >= threshold, 1, 0)  # Aplicar o limiar para transformar em binário\n",
    "\n",
    "# Calculando e exibindo as métricas após a binarização das previsões\n",
    "accuracy = accuracy_score(y_test, pred_binary)\n",
    "precision = precision_score(y_test, pred_binary)\n",
    "recall = recall_score(y_test, pred_binary)\n",
    "auc = roc_auc_score(y_test, pred)  # AUC usando as previsões contínuas\n",
    "\n",
    "print(f'Acurácia: {accuracy:.2f}')\n",
    "print(f'Precisão: {precision:.2f}')\n",
    "print(f'Recall: {recall:.2f}')\n",
    "print(f'AUC: {auc:.2f}')\n",
    "\n",
    "# Curva ROC após a binarização das previsões\n",
    "fpr, tpr, thresholds = roc_curve(y_test, pred)\n",
    "plt.figure(figsize=(8, 6))\n",
    "plt.plot(fpr, tpr, label='ROC curve (area = %0.2f)' % auc)\n",
    "plt.plot([0, 1], [0, 1], 'k--')  # Linha diagonal\n",
    "plt.xlabel('False Positive Rate')\n",
    "plt.ylabel('True Positive Rate')\n",
    "plt.title('Receiver Operating Characteristic (ROC) Curve')\n",
    "plt.legend(loc='lower right')\n",
    "plt.show()\n",
    "\n",
    "\n",
    "# scaler = MinMaxScaler(feature_range=(0, 1))\n",
    "# pred_scaled = scaler.fit_transform(pred.reshape(-1, 1))\n",
    "\n",
    "# print(pred_scaled)\n",
    "\n",
    "# print(y_test)\n",
    "\n",
    "\n",
    "# acuracia = accuracy_score(y_test, pred_scaled)\n",
    "\n",
    "\n",
    "# recall = recall_score(y_test, pred)\n",
    "# recall = recall * 100\n",
    "\n",
    "# precisao = precision_score(y_test, pred)\n",
    "# precisao = precisao * 100\n",
    "\n",
    "# f1 = f1_score(y_test, pred)\n",
    "# f1 = f1 * 100\n",
    "\n",
    "# mae = mean_absolute_error(y_test, pred)\n",
    "# mae = mae * 100\n",
    "\n",
    "# mse = mean_squared_error(y_test, pred)\n",
    "# mse = mse * 100\n",
    "\n",
    "# rmse = np.sqrt(mse)\n",
    "# rmse \n",
    "\n",
    "\n",
    "# print('========== Metricas do modelo ==========')\n",
    "# print(f'Acuracia: {acuracia:.0f}%')\n",
    "# print(f'Recall: {recall:.0f}%')\n",
    "# print(f'Precisao: {precisao:.2f}%')\n",
    "# print(f'F1-score: {f1:.2f}%')\n",
    "# print(f\"Erro Absoluto Médio (MAE): {mae:.0f}%\",)\n",
    "# print(f\"Erro Quadrático Médio (MSE): {mse:.0f}%\")\n",
    "# print(f\"Raiz do Erro Quadrático Médio (RMSE): {rmse:.2f}\")\n",
    "\n",
    "# # Plotando os dados e a linha de regressão\n",
    "# plt.scatter(x, y, color='blue', label='Dados reais')\n",
    "# plt.plot(x, model.predict(x), color='red', label='Regressão Linear')\n",
    "# plt.xlabel('Variável independente')\n",
    "# plt.ylabel('Variável dependente')\n",
    "# plt.legend()\n",
    "# plt.title('Regressão Linear em Python')\n",
    "# plt.show()"
   ]
  }
 ],
 "metadata": {
  "kernelspec": {
   "display_name": "Python 3",
   "language": "python",
   "name": "python3"
  },
  "language_info": {
   "codemirror_mode": {
    "name": "ipython",
    "version": 3
   },
   "file_extension": ".py",
   "mimetype": "text/x-python",
   "name": "python",
   "nbconvert_exporter": "python",
   "pygments_lexer": "ipython3",
   "version": "3.11.5"
  }
 },
 "nbformat": 4,
 "nbformat_minor": 2
}
