{
 "cells": [
  {
   "cell_type": "markdown",
   "metadata": {},
   "source": [
    "# Modelo de Classificação de Depressão em Áreas Rurais\n",
    "\n",
    "- Dataset para o desenvolvemento pego na plataforma [Kaggle](https://www.kaggle.com/datasets/diegobabativa/depression).\n"
   ]
  },
  {
   "cell_type": "code",
   "execution_count": 1,
   "metadata": {},
   "outputs": [],
   "source": [
    "import pandas as pd\n",
    "import numpy as np\n",
    "import matplotlib.pyplot as plt\n",
    "from sklearn.preprocessing import StandardScaler\n",
    "from sklearn.cluster import KMeans\n",
    "# %matplotlib inline\n"
   ]
  },
  {
   "cell_type": "code",
   "execution_count": 2,
   "metadata": {},
   "outputs": [
    {
     "data": {
      "text/plain": [
       "(1429, 23)"
      ]
     },
     "execution_count": 2,
     "metadata": {},
     "output_type": "execute_result"
    }
   ],
   "source": [
    "\n",
    "URL = 'https://gist.githubusercontent.com/Ronildo22/a8983b7543c364534c75d6add6fc8413/raw/767bec26dbf90a2467380aba7d6f71a0820bc37e/depressionDataset'\n",
    "df_depressao = pd.read_csv(URL)\n",
    "\n",
    "df_depressao.shape\n"
   ]
  },
  {
   "cell_type": "markdown",
   "metadata": {},
   "source": [
    "## Renomeando o cabeçalho do Dataframe"
   ]
  },
  {
   "cell_type": "code",
   "execution_count": 3,
   "metadata": {},
   "outputs": [
    {
     "data": {
      "text/plain": [
       "Index(['id_pesquisa', 'id_cidade', 'genero', 'idade', 'casado',\n",
       "       'numero_filhos', 'nivel_educacao', 'membros_familia',\n",
       "       'ativos_adquiridos', 'ativos_duraveis', 'ativos_poupados',\n",
       "       'despesas_moradia', 'outras_despesas', 'renda_salario',\n",
       "       'renda_fazenda_propria', 'renda_negocios', 'renda_sem_negocio',\n",
       "       'renda_agricola', 'despesas_fazenda', 'trabalho_principal',\n",
       "       'investimento_duradouro', 'sem_investimento_duradouro', 'depressao'],\n",
       "      dtype='object')"
      ]
     },
     "execution_count": 3,
     "metadata": {},
     "output_type": "execute_result"
    }
   ],
   "source": [
    "\n",
    "rename_df = {\n",
    "            'Survey_id': 'id_pesquisa',\n",
    "            'Ville_id': 'id_cidade',\n",
    "            'sex': 'genero',\n",
    "            'Age': 'idade',\n",
    "            'Married': 'casado',\n",
    "            'Number_children': 'numero_filhos',\n",
    "            'education_level': 'nivel_educacao',\n",
    "            'total_members': 'membros_familia',\n",
    "            'gained_asset': 'ativos_adquiridos',\n",
    "            'durable_asset': 'ativos_duraveis',\n",
    "            'save_asset': 'ativos_poupados',\n",
    "            'living_expenses': 'despesas_moradia',\n",
    "            'other_expenses': 'outras_despesas',\n",
    "            'incoming_salary': 'renda_salario',\n",
    "            'incoming_own_farm': 'renda_fazenda_propria',\n",
    "            'incoming_business': 'renda_negocios',\n",
    "            'incoming_no_business': 'renda_sem_negocio',\n",
    "            'incoming_agricultural': 'renda_agricola',\n",
    "            'farm_expenses': 'despesas_fazenda',\n",
    "            'labor_primary': 'trabalho_principal',\n",
    "            'lasting_investment': 'investimento_duradouro',\n",
    "            'no_lasting_investmen': 'sem_investimento_duradouro',\n",
    "            'depressed': 'depressao'\n",
    "            }\n",
    "\n",
    "df_depressao.rename(columns=rename_df, inplace=True)\n",
    "df_depressao.columns\n"
   ]
  },
  {
   "cell_type": "markdown",
   "metadata": {},
   "source": [
    "## Removendo Colunas Desnecessarias"
   ]
  },
  {
   "cell_type": "code",
   "execution_count": 4,
   "metadata": {},
   "outputs": [
    {
     "data": {
      "text/plain": [
       "Index(['genero', 'idade', 'casado', 'numero_filhos', 'nivel_educacao',\n",
       "       'membros_familia', 'ativos_adquiridos', 'ativos_duraveis',\n",
       "       'ativos_poupados', 'despesas_moradia', 'outras_despesas',\n",
       "       'renda_salario', 'renda_fazenda_propria', 'renda_negocios',\n",
       "       'renda_sem_negocio', 'renda_agricola', 'despesas_fazenda',\n",
       "       'trabalho_principal', 'investimento_duradouro',\n",
       "       'sem_investimento_duradouro', 'depressao'],\n",
       "      dtype='object')"
      ]
     },
     "execution_count": 4,
     "metadata": {},
     "output_type": "execute_result"
    }
   ],
   "source": [
    "\n",
    "df_depressao.drop(['id_pesquisa', 'id_cidade'], axis=1, inplace=True)\n",
    "\n",
    "df_depressao.columns\n"
   ]
  },
  {
   "cell_type": "markdown",
   "metadata": {},
   "source": [
    "## Removendo Valores Vazios do Dataframe"
   ]
  },
  {
   "cell_type": "code",
   "execution_count": 5,
   "metadata": {},
   "outputs": [
    {
     "data": {
      "text/plain": [
       "genero                        1409\n",
       "idade                         1409\n",
       "casado                        1409\n",
       "numero_filhos                 1409\n",
       "nivel_educacao                1409\n",
       "membros_familia               1409\n",
       "ativos_adquiridos             1409\n",
       "ativos_duraveis               1409\n",
       "ativos_poupados               1409\n",
       "despesas_moradia              1409\n",
       "outras_despesas               1409\n",
       "renda_salario                 1409\n",
       "renda_fazenda_propria         1409\n",
       "renda_negocios                1409\n",
       "renda_sem_negocio             1409\n",
       "renda_agricola                1409\n",
       "despesas_fazenda              1409\n",
       "trabalho_principal            1409\n",
       "investimento_duradouro        1409\n",
       "sem_investimento_duradouro    1409\n",
       "depressao                     1409\n",
       "dtype: int64"
      ]
     },
     "execution_count": 5,
     "metadata": {},
     "output_type": "execute_result"
    }
   ],
   "source": [
    "df_depressao = df_depressao.dropna()\n",
    "\n",
    "df_depressao.count()"
   ]
  },
  {
   "cell_type": "markdown",
   "metadata": {},
   "source": [
    "## Removendo Dados Enviesados do Dataframe"
   ]
  },
  {
   "cell_type": "code",
   "execution_count": 6,
   "metadata": {},
   "outputs": [],
   "source": [
    "\n",
    "filtro = (\n",
    "    (df_depressao['casado'] != 0) &\n",
    "    (df_depressao['genero'] != 0) &\n",
    "    (df_depressao['renda_salario'] != 1) &\n",
    "    (df_depressao['renda_fazenda_propria'] != 1) &\n",
    "    (df_depressao['renda_negocios'] != 1) &\n",
    "    (df_depressao['renda_sem_negocio'] != 1) &\n",
    "    (df_depressao['trabalho_principal'] != 1) &\n",
    "    (df_depressao['depressao'] == 0)\n",
    ")\n",
    "\n",
    "linhas_a_serem_removidas = df_depressao[filtro]\n",
    "df_depressao.drop(linhas_a_serem_removidas.index, inplace=True)\n",
    "\n",
    "# RESENTANDO O INDICE DO DATAFRAME\n",
    "df_depressao.reset_index(drop=True, inplace=True)\n",
    "\n",
    "# VALOR ABSOLUTO QUE CADA COLUNA TEM QUE TER \n",
    "valor_absoluto = 230"
   ]
  },
  {
   "cell_type": "markdown",
   "metadata": {},
   "source": [
    "### Removendo vies na coluna 'casado'"
   ]
  },
  {
   "cell_type": "code",
   "execution_count": 7,
   "metadata": {},
   "outputs": [
    {
     "name": "stdout",
     "output_type": "stream",
     "text": [
      "casado\n",
      "0    115\n",
      "1    115\n",
      "Name: count, dtype: int64\n",
      "230\n"
     ]
    }
   ],
   "source": [
    "cl_casado = df_depressao['casado']\n",
    "\n",
    "lista_index_casado = []\n",
    "\n",
    "cl_casado_value_0 = cl_casado.value_counts()[0]\n",
    "cl_casado_value_1 = cl_casado.value_counts()[1]\n",
    "quant_vies_remover = (cl_casado_value_1 - cl_casado_value_0) - 1\n",
    "\n",
    "cl_casado.reset_index(drop=True, inplace=True)\n",
    "\n",
    "i = 0\n",
    "for index, valor in enumerate(cl_casado):\n",
    "\n",
    "    if valor == 1 and i <= quant_vies_remover:\n",
    "\n",
    "        lista_index_casado.append(index)\n",
    "        cl_casado.drop(index=[index], inplace=True)\n",
    "        i += 1\n",
    "\n",
    "valor_atual = cl_casado.count()\n",
    "\n",
    "quatidade_remover = valor_atual - valor_absoluto\n",
    "quatidade_remover = quatidade_remover / 2\n",
    "\n",
    "linhas_a_serem_removidas = cl_casado[cl_casado == 0].head(int(quatidade_remover))\n",
    "cl_casado.drop(linhas_a_serem_removidas.index, inplace=True)\n",
    "\n",
    "linhas_a_serem_removidas = cl_casado[cl_casado == 1].head(int(quatidade_remover))\n",
    "cl_casado.drop(linhas_a_serem_removidas.index, inplace=True)\n",
    "\n",
    "print(cl_casado.value_counts())\n",
    "print(cl_casado.count())\n"
   ]
  },
  {
   "cell_type": "markdown",
   "metadata": {},
   "source": [
    "### Removendo vies na coluna 'genero'"
   ]
  },
  {
   "cell_type": "code",
   "execution_count": 8,
   "metadata": {},
   "outputs": [
    {
     "name": "stdout",
     "output_type": "stream",
     "text": [
      "genero\n",
      "0    115\n",
      "1    115\n",
      "Name: count, dtype: int64\n",
      "230\n"
     ]
    }
   ],
   "source": [
    "cl_genero = df_depressao['genero']\n",
    "\n",
    "lista_index_genero = []\n",
    "\n",
    "cl_genero_value_0 = cl_genero.value_counts()[0]\n",
    "cl_genero_value_1 = cl_genero.value_counts()[1]\n",
    "quant_vies_remover = (cl_genero_value_1 - cl_genero_value_0) - 1\n",
    "\n",
    "i = 0\n",
    "for index, valor in enumerate(cl_genero):\n",
    "\n",
    "    if valor == 1 and i <= quant_vies_remover:\n",
    "\n",
    "        lista_index_genero.append(index)\n",
    "        cl_genero.drop(index=[index], inplace=True)\n",
    "        i += 1\n",
    "\n",
    "print(cl_genero.value_counts())\n",
    "print(cl_genero.count())"
   ]
  },
  {
   "cell_type": "markdown",
   "metadata": {},
   "source": [
    "### Removendo vies da coluna 'renda_salario'"
   ]
  },
  {
   "cell_type": "code",
   "execution_count": 9,
   "metadata": {},
   "outputs": [
    {
     "name": "stdout",
     "output_type": "stream",
     "text": [
      "renda_salario\n",
      "1    115\n",
      "0    115\n",
      "Name: count, dtype: int64\n",
      "230\n"
     ]
    }
   ],
   "source": [
    "\n",
    "cl_renda_salario = df_depressao['renda_salario']\n",
    "\n",
    "lista_index_renda_salario = []\n",
    "\n",
    "cl_renda_salario_value_0 = cl_renda_salario.value_counts()[0]\n",
    "cl_renda_salario_value_1 = cl_renda_salario.value_counts()[1]\n",
    "quant_vies_remover = (cl_renda_salario_value_0 - cl_renda_salario_value_1) - 1\n",
    "\n",
    "i = 0\n",
    "for index, valor in enumerate(cl_renda_salario):\n",
    "\n",
    "    if valor == 0 and i <= quant_vies_remover:\n",
    "\n",
    "        lista_index_renda_salario.append(index)\n",
    "        cl_renda_salario.drop(index=[index], inplace=True)\n",
    "        i += 1\n",
    "\n",
    "valor_atual = cl_renda_salario.count()\n",
    "\n",
    "quatidade_remover = valor_atual - valor_absoluto\n",
    "quatidade_remover = quatidade_remover / 2\n",
    "\n",
    "linhas_a_serem_removidas = cl_renda_salario[cl_renda_salario == 0].head(int(quatidade_remover))\n",
    "cl_renda_salario.drop(linhas_a_serem_removidas.index, inplace=True)\n",
    "\n",
    "linhas_a_serem_removidas = cl_renda_salario[cl_renda_salario == 1].head(int(quatidade_remover))\n",
    "cl_renda_salario.drop(linhas_a_serem_removidas.index, inplace=True)\n",
    "\n",
    "print(cl_renda_salario.value_counts())\n",
    "print(cl_renda_salario.count())\n"
   ]
  },
  {
   "cell_type": "markdown",
   "metadata": {},
   "source": [
    "### Removendo vies na coluna 'renda_fazenda_propria'"
   ]
  },
  {
   "cell_type": "code",
   "execution_count": 10,
   "metadata": {},
   "outputs": [
    {
     "name": "stdout",
     "output_type": "stream",
     "text": [
      "renda_fazenda_propria\n",
      "1    115\n",
      "0    115\n",
      "Name: count, dtype: int64\n",
      "230\n"
     ]
    }
   ],
   "source": [
    "\n",
    "cl_renda_fazenda_propria = df_depressao['renda_fazenda_propria']\n",
    "\n",
    "lista_index_renda_fazenda_propria = []\n",
    "\n",
    "cl_renda_fazenda_propria_value_0 = cl_renda_fazenda_propria.value_counts()[0]\n",
    "cl_renda_fazenda_propria_value_1 = cl_renda_fazenda_propria.value_counts()[1]\n",
    "\n",
    "quant_vies_remover = (cl_renda_fazenda_propria_value_0 - cl_renda_fazenda_propria_value_1) - 1\n",
    "\n",
    "i = 0\n",
    "for index, valor in enumerate(cl_renda_fazenda_propria):\n",
    "\n",
    "    if valor == 0 and i <= quant_vies_remover:\n",
    "\n",
    "        lista_index_renda_fazenda_propria.append(index)\n",
    "        cl_renda_fazenda_propria.drop(index=[index], inplace=True)\n",
    "        i += 1\n",
    "\n",
    "valor_atual = cl_renda_fazenda_propria.count()\n",
    "\n",
    "quatidade_remover = valor_atual - valor_absoluto\n",
    "quatidade_remover = quatidade_remover / 2\n",
    "\n",
    "linhas_a_serem_removidas = cl_renda_fazenda_propria[cl_renda_fazenda_propria == 0].head(int(quatidade_remover))\n",
    "cl_renda_fazenda_propria.drop(linhas_a_serem_removidas.index, inplace=True)\n",
    "\n",
    "linhas_a_serem_removidas = cl_renda_fazenda_propria[cl_renda_fazenda_propria == 1].head(int(quatidade_remover))\n",
    "cl_renda_fazenda_propria.drop(linhas_a_serem_removidas.index, inplace=True)\n",
    "\n",
    "print(cl_renda_fazenda_propria.value_counts())\n",
    "print(cl_renda_fazenda_propria.count())\n"
   ]
  },
  {
   "cell_type": "markdown",
   "metadata": {},
   "source": [
    "### Removendo vies na coluna 'renda_negocios'"
   ]
  },
  {
   "cell_type": "code",
   "execution_count": 11,
   "metadata": {},
   "outputs": [
    {
     "name": "stdout",
     "output_type": "stream",
     "text": [
      "renda_negocios\n",
      "1    115\n",
      "0    115\n",
      "Name: count, dtype: int64\n",
      "230\n"
     ]
    }
   ],
   "source": [
    "\n",
    "cl_renda_negocios = df_depressao['renda_negocios']\n",
    "\n",
    "lista_index_renda_negocios = []\n",
    "\n",
    "cl_renda_negocios_value_0 = cl_renda_negocios.value_counts()[0]\n",
    "cl_renda_negocios_value_1 = cl_renda_negocios.value_counts()[1]\n",
    "\n",
    "quant_vies_remover = (cl_renda_negocios_value_0 - cl_renda_negocios_value_1) - 1\n",
    "\n",
    "i = 0\n",
    "for index, valor in enumerate(cl_renda_negocios):\n",
    "\n",
    "    if valor == 0 and i <= quant_vies_remover:\n",
    "\n",
    "        lista_index_renda_negocios.append(index)\n",
    "        cl_renda_negocios.drop(index=[index], inplace=True)\n",
    "        i += 1\n",
    "\n",
    "valor_atual = cl_renda_negocios.count()\n",
    "\n",
    "quatidade_remover = valor_atual - valor_absoluto\n",
    "quatidade_remover = quatidade_remover / 2\n",
    "\n",
    "linhas_a_serem_removidas = cl_renda_negocios[cl_renda_negocios == 0].head(int(quatidade_remover))\n",
    "cl_renda_negocios.drop(linhas_a_serem_removidas.index, inplace=True)\n",
    "\n",
    "linhas_a_serem_removidas = cl_renda_negocios[cl_renda_negocios == 1].head(int(quatidade_remover))\n",
    "cl_renda_negocios.drop(linhas_a_serem_removidas.index, inplace=True)\n",
    "\n",
    "print(cl_renda_negocios.value_counts())\n",
    "print(cl_renda_negocios.count()) "
   ]
  },
  {
   "cell_type": "markdown",
   "metadata": {},
   "source": [
    "### Removendo vies da coluna 'renda_sem_negocio'"
   ]
  },
  {
   "cell_type": "code",
   "execution_count": 12,
   "metadata": {},
   "outputs": [
    {
     "name": "stdout",
     "output_type": "stream",
     "text": [
      "renda_sem_negocio\n",
      "1    372\n",
      "0    372\n",
      "Name: count, dtype: int64\n",
      "renda_sem_negocio\n",
      "1    115\n",
      "0    115\n",
      "Name: count, dtype: int64\n",
      "230\n"
     ]
    }
   ],
   "source": [
    "\n",
    "cl_renda_sem_negocio = df_depressao['renda_sem_negocio']\n",
    "\n",
    "lista_index_renda_sem_negocio = []\n",
    "\n",
    "cl_renda_sem_negocio_value_0 = cl_renda_sem_negocio.value_counts()[0]\n",
    "cl_renda_sem_negocio_value_1 = cl_renda_sem_negocio.value_counts()[1]\n",
    "\n",
    "quant_vies_remover = (cl_renda_sem_negocio_value_0 - cl_renda_sem_negocio_value_1) - 1\n",
    "\n",
    "i = 0\n",
    "for index, valor in enumerate(cl_renda_sem_negocio):\n",
    "\n",
    "    if valor == 0 and i <= quant_vies_remover:\n",
    "\n",
    "        lista_index_renda_sem_negocio.append(index)\n",
    "        cl_renda_sem_negocio.drop(index=[index], inplace=True)\n",
    "        i += 1\n",
    "\n",
    "print(cl_renda_sem_negocio.value_counts())\n",
    "\n",
    "valor_atual = cl_renda_sem_negocio.count()\n",
    "\n",
    "quatidade_remover = valor_atual - valor_absoluto\n",
    "quatidade_remover = quatidade_remover / 2\n",
    "\n",
    "linhas_a_serem_removidas = cl_renda_sem_negocio[cl_renda_sem_negocio == 0].head(int(quatidade_remover))\n",
    "cl_renda_sem_negocio.drop(linhas_a_serem_removidas.index, inplace=True)\n",
    "\n",
    "linhas_a_serem_removidas = cl_renda_sem_negocio[cl_renda_sem_negocio == 1].head(int(quatidade_remover))\n",
    "cl_renda_sem_negocio.drop(linhas_a_serem_removidas.index, inplace=True)\n",
    "\n",
    "print(cl_renda_sem_negocio.value_counts())\n",
    "print(cl_renda_sem_negocio.count())"
   ]
  },
  {
   "cell_type": "markdown",
   "metadata": {},
   "source": [
    "### Removendo vies na coluna 'trabalho_principal'"
   ]
  },
  {
   "cell_type": "code",
   "execution_count": 13,
   "metadata": {},
   "outputs": [
    {
     "name": "stdout",
     "output_type": "stream",
     "text": [
      "trabalho_principal\n",
      "1    295\n",
      "0    295\n",
      "Name: count, dtype: int64\n",
      "trabalho_principal\n",
      "1    115\n",
      "0    115\n",
      "Name: count, dtype: int64\n",
      "230\n"
     ]
    }
   ],
   "source": [
    "\n",
    "cl_trabalho_principal = df_depressao['trabalho_principal']\n",
    "\n",
    "lista_index_trabalho_principal = []\n",
    "\n",
    "cl_trabalho_principal_value_0 = cl_trabalho_principal.value_counts()[0]\n",
    "cl_trabalho_principal_value_1 = cl_trabalho_principal.value_counts()[1]\n",
    "\n",
    "quant_vies_remover = (cl_trabalho_principal_value_0 - cl_trabalho_principal_value_1) - 1\n",
    "\n",
    "i = 0\n",
    "for index, valor in enumerate(cl_trabalho_principal):\n",
    "\n",
    "    if valor == 0 and i <= quant_vies_remover:\n",
    "\n",
    "        lista_index_trabalho_principal.append(index)\n",
    "        cl_trabalho_principal.drop(index=[index], inplace=True)\n",
    "        i += 1\n",
    "\n",
    "print(cl_trabalho_principal.value_counts())\n",
    "\n",
    "valor_atual = cl_trabalho_principal.count()\n",
    "\n",
    "quatidade_remover = valor_atual - valor_absoluto\n",
    "quatidade_remover = quatidade_remover / 2\n",
    "\n",
    "linhas_a_serem_removidas = cl_trabalho_principal[cl_trabalho_principal == 0].head(int(quatidade_remover))\n",
    "cl_trabalho_principal.drop(linhas_a_serem_removidas.index, inplace=True)\n",
    "\n",
    "linhas_a_serem_removidas = cl_trabalho_principal[cl_trabalho_principal == 1].head(int(quatidade_remover))\n",
    "cl_trabalho_principal.drop(linhas_a_serem_removidas.index, inplace=True)\n",
    "\n",
    "print(cl_trabalho_principal.value_counts())\n",
    "print(cl_trabalho_principal.count())\n"
   ]
  },
  {
   "cell_type": "markdown",
   "metadata": {},
   "source": [
    "### Removendo vies na coluna 'depressao'"
   ]
  },
  {
   "cell_type": "code",
   "execution_count": 14,
   "metadata": {},
   "outputs": [
    {
     "name": "stdout",
     "output_type": "stream",
     "text": [
      "depressao\n",
      "1    235\n",
      "0    235\n",
      "Name: count, dtype: int64\n",
      "depressao\n",
      "1    115\n",
      "0    115\n",
      "Name: count, dtype: int64\n",
      "230\n"
     ]
    }
   ],
   "source": [
    "\n",
    "cl_depressao = df_depressao['depressao']\n",
    "\n",
    "lista_index_depressao = []\n",
    "\n",
    "cl_depressao_value_0 = cl_depressao.value_counts()[0]\n",
    "cl_depressao_value_1 = cl_depressao.value_counts()[1]\n",
    "\n",
    "quant_vies_remover = (cl_depressao_value_0 - cl_depressao_value_1) - 1\n",
    "\n",
    "i = 0\n",
    "for index, valor in enumerate(cl_depressao):\n",
    "\n",
    "    if valor == 0 and i <= quant_vies_remover:\n",
    "\n",
    "        lista_index_depressao.append(index)\n",
    "        cl_depressao.drop(index=[index], inplace=True)\n",
    "        i += 1\n",
    "\n",
    "print(cl_depressao.value_counts())\n",
    "\n",
    "valor_atual = cl_depressao.count()\n",
    "\n",
    "quatidade_remover = valor_atual - valor_absoluto\n",
    "quatidade_remover = quatidade_remover / 2\n",
    "\n",
    "linhas_a_serem_removidas = cl_depressao[cl_depressao == 0].head(int(quatidade_remover))\n",
    "cl_depressao.drop(linhas_a_serem_removidas.index, inplace=True)\n",
    "\n",
    "linhas_a_serem_removidas = cl_depressao[cl_depressao == 1].head(int(quatidade_remover))\n",
    "cl_depressao.drop(linhas_a_serem_removidas.index, inplace=True)\n",
    "\n",
    "print(cl_depressao.value_counts())\n",
    "print(cl_depressao.count())\n"
   ]
  },
  {
   "cell_type": "markdown",
   "metadata": {},
   "source": [
    "### Adicionando as mudanças no DataFrame"
   ]
  },
  {
   "cell_type": "code",
   "execution_count": 15,
   "metadata": {},
   "outputs": [
    {
     "name": "stdout",
     "output_type": "stream",
     "text": [
      "idade                         230\n",
      "numero_filhos                 230\n",
      "nivel_educacao                230\n",
      "membros_familia               230\n",
      "ativos_adquiridos             230\n",
      "ativos_duraveis               230\n",
      "ativos_poupados               230\n",
      "despesas_moradia              230\n",
      "outras_despesas               230\n",
      "renda_agricola                230\n",
      "despesas_fazenda              230\n",
      "investimento_duradouro        230\n",
      "sem_investimento_duradouro    230\n",
      "casado                        230\n",
      "genero                        230\n",
      "renda_salario                 230\n",
      "renda_fazenda_propria         230\n",
      "renda_negocios                230\n",
      "renda_sem_negocio             230\n",
      "trabalho_principal            230\n",
      "depressao                     230\n",
      "dtype: int64\n",
      "casado\n",
      "0.0    115\n",
      "1.0    115\n",
      "Name: count, dtype: int64\n",
      "genero\n",
      "0.0    115\n",
      "1.0    115\n",
      "Name: count, dtype: int64\n",
      "renda_salario\n",
      "1.0    115\n",
      "0.0    115\n",
      "Name: count, dtype: int64\n",
      "renda_fazenda_propria\n",
      "1.0    115\n",
      "0.0    115\n",
      "Name: count, dtype: int64\n",
      "renda_negocios\n",
      "1.0    115\n",
      "0.0    115\n",
      "Name: count, dtype: int64\n",
      "renda_sem_negocio\n",
      "1.0    115\n",
      "0.0    115\n",
      "Name: count, dtype: int64\n",
      "trabalho_principal\n",
      "1.0    115\n",
      "0.0    115\n",
      "Name: count, dtype: int64\n",
      "depressao\n",
      "1.0    115\n",
      "0.0    115\n",
      "Name: count, dtype: int64\n"
     ]
    }
   ],
   "source": [
    "\n",
    "df_depressao.drop(columns=['casado', 'genero', 'renda_salario', 'renda_fazenda_propria', 'renda_negocios',\n",
    "                           'renda_sem_negocio', 'trabalho_principal', 'depressao'], inplace=True)\n",
    "\n",
    "cl_casado = cl_casado.dropna()\n",
    "cl_casado.reset_index(drop=True, inplace=True)\n",
    "\n",
    "cl_genero = cl_genero.dropna()\n",
    "cl_genero.reset_index(drop=True, inplace=True)\n",
    "\n",
    "cl_renda_salario = cl_renda_salario.dropna()\n",
    "cl_renda_salario.reset_index(drop=True, inplace=True)\n",
    "\n",
    "cl_renda_fazenda_propria = cl_renda_fazenda_propria.dropna()\n",
    "cl_renda_fazenda_propria.reset_index(drop=True, inplace=True)\n",
    "\n",
    "cl_renda_negocios = cl_renda_negocios.dropna()\n",
    "cl_renda_negocios.reset_index(drop=True, inplace=True)\n",
    "\n",
    "cl_renda_sem_negocio = cl_renda_sem_negocio.dropna()\n",
    "cl_renda_sem_negocio.reset_index(drop=True, inplace=True)\n",
    "\n",
    "cl_trabalho_principal = cl_trabalho_principal.dropna()\n",
    "cl_trabalho_principal.reset_index(drop=True, inplace=True)\n",
    "\n",
    "cl_depressao = cl_depressao.dropna()\n",
    "cl_depressao.reset_index(drop=True, inplace=True)\n",
    "\n",
    "df_depressao['casado'] = cl_casado\n",
    "df_depressao['genero'] = cl_genero\n",
    "df_depressao['renda_salario'] = cl_renda_salario\n",
    "df_depressao['renda_fazenda_propria'] = cl_renda_fazenda_propria\n",
    "df_depressao['renda_negocios'] = cl_renda_negocios\n",
    "df_depressao['renda_sem_negocio'] = cl_renda_sem_negocio\n",
    "df_depressao['trabalho_principal'] = cl_trabalho_principal\n",
    "df_depressao['depressao'] = cl_depressao\n",
    "\n",
    "df_depressao = df_depressao.dropna()\n",
    "\n",
    "print(df_depressao.count())\n",
    "\n",
    "print(df_depressao['casado'].value_counts())\n",
    "print(df_depressao['genero'].value_counts())\n",
    "print(df_depressao['renda_salario'].value_counts())\n",
    "print(df_depressao['renda_fazenda_propria'].value_counts())\n",
    "print(df_depressao['renda_negocios'].value_counts())\n",
    "print(df_depressao['renda_sem_negocio'].value_counts())\n",
    "print(df_depressao['trabalho_principal'].value_counts())\n",
    "print(df_depressao['depressao'].value_counts())\n"
   ]
  },
  {
   "cell_type": "markdown",
   "metadata": {},
   "source": [
    "# Preparando Dados"
   ]
  },
  {
   "cell_type": "markdown",
   "metadata": {},
   "source": [
    "## Separando o rotulo y dos dados x"
   ]
  },
  {
   "cell_type": "code",
   "execution_count": 16,
   "metadata": {},
   "outputs": [],
   "source": [
    "\n",
    "df_depressao.head()\n",
    "y = df_depressao['depressao']\n",
    "\n",
    "df_depressao.drop(['depressao'], axis=1, inplace=True)\n",
    "\n",
    "\n",
    "\n",
    "y = np.array(y)\n"
   ]
  },
  {
   "cell_type": "markdown",
   "metadata": {},
   "source": [
    "# Deixando a feature x em uma faixa inicial de -1 a 1"
   ]
  },
  {
   "cell_type": "code",
   "execution_count": 17,
   "metadata": {},
   "outputs": [
    {
     "data": {
      "text/plain": [
       "array([[-0.95092885,  0.06278974, -0.26855867, ...,  1.        ,\n",
       "         1.        ,  1.        ],\n",
       "       [-0.65892133, -0.45298312,  0.43335603, ...,  1.        ,\n",
       "         1.        ,  1.        ],\n",
       "       [ 1.67713886,  0.5785626 ,  0.43335603, ...,  1.        ,\n",
       "         1.        ,  1.        ],\n",
       "       ...,\n",
       "       [-0.07490628,  1.61010832,  0.08239868, ..., -1.        ,\n",
       "        -1.        , -1.        ],\n",
       "       [ 0.21710125,  2.12588118,  1.13527073, ..., -1.        ,\n",
       "        -1.        , -1.        ],\n",
       "       [ 0.72811441, -0.45298312, -0.61951602, ..., -1.        ,\n",
       "         1.        , -1.        ]])"
      ]
     },
     "execution_count": 17,
     "metadata": {},
     "output_type": "execute_result"
    }
   ],
   "source": [
    "\n",
    "df_depressao\n",
    "\n",
    "scaler = StandardScaler()\n",
    "x = scaler.fit_transform(df_depressao)\n",
    "x\n",
    "\n"
   ]
  },
  {
   "cell_type": "markdown",
   "metadata": {},
   "source": [
    "# Treinando o modelo"
   ]
  },
  {
   "cell_type": "markdown",
   "metadata": {},
   "source": [
    "## Metricas do modelo com seed = 0, (se for sem o resultado é o mesmo so inverte a cor do grupo)"
   ]
  },
  {
   "cell_type": "code",
   "execution_count": 18,
   "metadata": {},
   "outputs": [
    {
     "name": "stderr",
     "output_type": "stream",
     "text": [
      "c:\\Users\\Ronildo\\AppData\\Local\\Programs\\Python\\Python311\\Lib\\site-packages\\sklearn\\cluster\\_kmeans.py:1416: FutureWarning: The default value of `n_init` will change from 10 to 'auto' in 1.4. Set the value of `n_init` explicitly to suppress the warning\n",
      "  super()._check_params_vs_input(X, default_n_init=10)\n"
     ]
    },
    {
     "data": {
      "image/png": "[encoded data removed]",
      "text/plain": [
       "<Figure size 640x480 with 1 Axes>"
      ]
     },
     "metadata": {},
     "output_type": "display_data"
    }
   ],
   "source": [
    "seed = 0\n",
    "\n",
    "kmeans = KMeans(n_clusters=2, random_state=seed)\n",
    "\n",
    "kmeans.fit(x)\n",
    "\n",
    "labels = kmeans.labels_\n",
    "\n",
    "centroids = kmeans.cluster_centers_\n",
    "\n",
    "plt.scatter(x[:, 0], x[:, 1], c=labels, cmap='viridis', s=50)\n",
    "plt.scatter(centroids[:, 0], centroids[:, 1], c='black', s=200, alpha=0.7)\n",
    "plt.title('Clusters - K-Means')\n",
    "plt.show()\n"
   ]
  }
 ],
 "metadata": {
  "kernelspec": {
   "display_name": "Python 3",
   "language": "python",
   "name": "python3"
  },
  "language_info": {
   "codemirror_mode": {
    "name": "ipython",
    "version": 3
   },
   "file_extension": ".py",
   "mimetype": "text/x-python",
   "name": "python",
   "nbconvert_exporter": "python",
   "pygments_lexer": "ipython3",
   "version": "3.11.5"
  }
 },
 "nbformat": 4,
 "nbformat_minor": 2
}
