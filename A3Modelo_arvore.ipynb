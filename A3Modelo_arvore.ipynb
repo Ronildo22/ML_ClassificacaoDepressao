{
 "cells": [
  {
   "cell_type": "code",
   "execution_count": 20,
   "metadata": {},
   "outputs": [],
   "source": [
    "import pandas as pd\n",
    "import numpy as np\n",
    "import seaborn as sns\n",
    "import matplotlib.pyplot as plt\n",
    "from sklearn import tree\n",
    "from sklearn.preprocessing import MinMaxScaler, StandardScaler\n",
    "from sklearn.model_selection import train_test_split\n",
    "from sklearn.metrics import confusion_matrix, accuracy_score, precision_score, recall_score, f1_score\n",
    "from sklearn.metrics import mean_absolute_error, mean_squared_error\n",
    "from sklearn.preprocessing import LabelEncoder\n",
    "from sklearn.neighbors import KNeighborsClassifier\n",
    "import matplotlib.pyplot as plt\n",
    "from sklearn.metrics import roc_curve, roc_auc_score\n",
    "# %matplotlib inline\n"
   ]
  },
  {
   "cell_type": "markdown",
   "metadata": {},
   "source": [
    "# Lendo o Dataset"
   ]
  },
  {
   "cell_type": "code",
   "execution_count": 2,
   "metadata": {},
   "outputs": [
    {
     "data": {
      "text/plain": [
       "(1429, 23)"
      ]
     },
     "execution_count": 2,
     "metadata": {},
     "output_type": "execute_result"
    }
   ],
   "source": [
    "\n",
    "URL = 'https://gist.githubusercontent.com/Ronildo22/a8983b7543c364534c75d6add6fc8413/raw/767bec26dbf90a2467380aba7d6f71a0820bc37e/depressionDataset'\n",
    "df_depressao = pd.read_csv(URL)\n",
    "\n",
    "df_depressao.shape\n"
   ]
  },
  {
   "cell_type": "markdown",
   "metadata": {},
   "source": [
    "## Renomeando o cabeçalho do Dataframe"
   ]
  },
  {
   "cell_type": "code",
   "execution_count": 3,
   "metadata": {},
   "outputs": [
    {
     "data": {
      "text/plain": [
       "Index(['id_pesquisa', 'id_cidade', 'genero', 'idade', 'casado',\n",
       "       'numero_filhos', 'nivel_educacao', 'membros_familia',\n",
       "       'ativos_adquiridos', 'ativos_duraveis', 'ativos_poupados',\n",
       "       'despesas_moradia', 'outras_despesas', 'renda_salario',\n",
       "       'renda_fazenda_propria', 'renda_negocios', 'renda_sem_negocio',\n",
       "       'renda_agricola', 'despesas_fazenda', 'trabalho_principal',\n",
       "       'investimento_duradouro', 'sem_investimento_duradouro', 'depressao'],\n",
       "      dtype='object')"
      ]
     },
     "execution_count": 3,
     "metadata": {},
     "output_type": "execute_result"
    }
   ],
   "source": [
    "\n",
    "rename_df = {\n",
    "            'Survey_id': 'id_pesquisa',\n",
    "            'Ville_id': 'id_cidade',\n",
    "            'sex': 'genero',\n",
    "            'Age': 'idade',\n",
    "            'Married': 'casado',\n",
    "            'Number_children': 'numero_filhos',\n",
    "            'education_level': 'nivel_educacao',\n",
    "            'total_members': 'membros_familia',\n",
    "            'gained_asset': 'ativos_adquiridos',\n",
    "            'durable_asset': 'ativos_duraveis',\n",
    "            'save_asset': 'ativos_poupados',\n",
    "            'living_expenses': 'despesas_moradia',\n",
    "            'other_expenses': 'outras_despesas',\n",
    "            'incoming_salary': 'renda_salario',\n",
    "            'incoming_own_farm': 'renda_fazenda_propria',\n",
    "            'incoming_business': 'renda_negocios',\n",
    "            'incoming_no_business': 'renda_sem_negocio',\n",
    "            'incoming_agricultural': 'renda_agricola',\n",
    "            'farm_expenses': 'despesas_fazenda',\n",
    "            'labor_primary': 'trabalho_principal',\n",
    "            'lasting_investment': 'investimento_duradouro',\n",
    "            'no_lasting_investmen': 'sem_investimento_duradouro',\n",
    "            'depressed': 'depressao'\n",
    "            }\n",
    "\n",
    "df_depressao.rename(columns=rename_df, inplace=True)\n",
    "df_depressao.columns\n"
   ]
  },
  {
   "cell_type": "markdown",
   "metadata": {},
   "source": [
    "## Removendo Colunas Desnecessarias"
   ]
  },
  {
   "cell_type": "code",
   "execution_count": 4,
   "metadata": {},
   "outputs": [
    {
     "data": {
      "text/plain": [
       "Index(['genero', 'idade', 'casado', 'numero_filhos', 'nivel_educacao',\n",
       "       'membros_familia', 'ativos_adquiridos', 'ativos_duraveis',\n",
       "       'ativos_poupados', 'despesas_moradia', 'outras_despesas',\n",
       "       'renda_salario', 'renda_fazenda_propria', 'renda_negocios',\n",
       "       'renda_sem_negocio', 'renda_agricola', 'despesas_fazenda',\n",
       "       'trabalho_principal', 'investimento_duradouro',\n",
       "       'sem_investimento_duradouro', 'depressao'],\n",
       "      dtype='object')"
      ]
     },
     "execution_count": 4,
     "metadata": {},
     "output_type": "execute_result"
    }
   ],
   "source": [
    "\n",
    "df_depressao.drop(['id_pesquisa', 'id_cidade'], axis=1, inplace=True)\n",
    "\n",
    "df_depressao.columns\n"
   ]
  },
  {
   "cell_type": "markdown",
   "metadata": {},
   "source": [
    "## Removendo Valores Vazios do Dataframe"
   ]
  },
  {
   "cell_type": "code",
   "execution_count": 5,
   "metadata": {},
   "outputs": [
    {
     "data": {
      "text/plain": [
       "genero                        1409\n",
       "idade                         1409\n",
       "casado                        1409\n",
       "numero_filhos                 1409\n",
       "nivel_educacao                1409\n",
       "membros_familia               1409\n",
       "ativos_adquiridos             1409\n",
       "ativos_duraveis               1409\n",
       "ativos_poupados               1409\n",
       "despesas_moradia              1409\n",
       "outras_despesas               1409\n",
       "renda_salario                 1409\n",
       "renda_fazenda_propria         1409\n",
       "renda_negocios                1409\n",
       "renda_sem_negocio             1409\n",
       "renda_agricola                1409\n",
       "despesas_fazenda              1409\n",
       "trabalho_principal            1409\n",
       "investimento_duradouro        1409\n",
       "sem_investimento_duradouro    1409\n",
       "depressao                     1409\n",
       "dtype: int64"
      ]
     },
     "execution_count": 5,
     "metadata": {},
     "output_type": "execute_result"
    }
   ],
   "source": [
    "df_depressao = df_depressao.dropna()\n",
    "\n",
    "df_depressao.count()"
   ]
  },
  {
   "cell_type": "markdown",
   "metadata": {},
   "source": [
    "## Removendo Dados Enviesados do Dataframe\n"
   ]
  },
  {
   "cell_type": "code",
   "execution_count": 6,
   "metadata": {},
   "outputs": [
    {
     "data": {
      "text/plain": [
       "depressao\n",
       "1    235\n",
       "0    235\n",
       "Name: count, dtype: int64"
      ]
     },
     "execution_count": 6,
     "metadata": {},
     "output_type": "execute_result"
    }
   ],
   "source": [
    "df_depressao['depressao'].value_counts()\n",
    "# depressao\n",
    "# 0    1174\n",
    "# 1     235\n",
    "\n",
    "# 939\n",
    "\n",
    "linhas_a_serem_removidas = df_depressao[df_depressao['depressao'] == 0].head(939)\n",
    "df_depressao.drop(linhas_a_serem_removidas.index, inplace=True)\n",
    "\n",
    "df_depressao['depressao'].value_counts()\n"
   ]
  },
  {
   "cell_type": "markdown",
   "metadata": {},
   "source": [
    "# Análise Exploratória"
   ]
  },
  {
   "cell_type": "code",
   "execution_count": 7,
   "metadata": {},
   "outputs": [
    {
     "data": {
      "text/html": [
       "<div>\n",
       "<style scoped>\n",
       "    .dataframe tbody tr th:only-of-type {\n",
       "        vertical-align: middle;\n",
       "    }\n",
       "\n",
       "    .dataframe tbody tr th {\n",
       "        vertical-align: top;\n",
       "    }\n",
       "\n",
       "    .dataframe thead th {\n",
       "        text-align: right;\n",
       "    }\n",
       "</style>\n",
       "<table border=\"1\" class=\"dataframe\">\n",
       "  <thead>\n",
       "    <tr style=\"text-align: right;\">\n",
       "      <th></th>\n",
       "      <th>genero</th>\n",
       "      <th>idade</th>\n",
       "      <th>casado</th>\n",
       "      <th>numero_filhos</th>\n",
       "      <th>nivel_educacao</th>\n",
       "      <th>membros_familia</th>\n",
       "      <th>ativos_adquiridos</th>\n",
       "      <th>ativos_duraveis</th>\n",
       "      <th>ativos_poupados</th>\n",
       "      <th>despesas_moradia</th>\n",
       "      <th>...</th>\n",
       "      <th>renda_salario</th>\n",
       "      <th>renda_fazenda_propria</th>\n",
       "      <th>renda_negocios</th>\n",
       "      <th>renda_sem_negocio</th>\n",
       "      <th>renda_agricola</th>\n",
       "      <th>despesas_fazenda</th>\n",
       "      <th>trabalho_principal</th>\n",
       "      <th>investimento_duradouro</th>\n",
       "      <th>sem_investimento_duradouro</th>\n",
       "      <th>depressao</th>\n",
       "    </tr>\n",
       "  </thead>\n",
       "  <tbody>\n",
       "    <tr>\n",
       "      <th>count</th>\n",
       "      <td>470.000000</td>\n",
       "      <td>470.000000</td>\n",
       "      <td>470.000000</td>\n",
       "      <td>470.000000</td>\n",
       "      <td>470.000000</td>\n",
       "      <td>470.000000</td>\n",
       "      <td>4.700000e+02</td>\n",
       "      <td>4.700000e+02</td>\n",
       "      <td>4.700000e+02</td>\n",
       "      <td>4.700000e+02</td>\n",
       "      <td>...</td>\n",
       "      <td>470.000000</td>\n",
       "      <td>470.000000</td>\n",
       "      <td>470.000000</td>\n",
       "      <td>470.000000</td>\n",
       "      <td>4.700000e+02</td>\n",
       "      <td>4.700000e+02</td>\n",
       "      <td>470.000000</td>\n",
       "      <td>4.700000e+02</td>\n",
       "      <td>4.700000e+02</td>\n",
       "      <td>470.000000</td>\n",
       "    </tr>\n",
       "    <tr>\n",
       "      <th>mean</th>\n",
       "      <td>0.917021</td>\n",
       "      <td>36.378723</td>\n",
       "      <td>0.742553</td>\n",
       "      <td>2.961702</td>\n",
       "      <td>8.302128</td>\n",
       "      <td>5.146809</td>\n",
       "      <td>3.068718e+07</td>\n",
       "      <td>2.784189e+07</td>\n",
       "      <td>2.958035e+07</td>\n",
       "      <td>3.218173e+07</td>\n",
       "      <td>...</td>\n",
       "      <td>0.165957</td>\n",
       "      <td>0.253191</td>\n",
       "      <td>0.104255</td>\n",
       "      <td>0.238298</td>\n",
       "      <td>3.354952e+07</td>\n",
       "      <td>3.576076e+07</td>\n",
       "      <td>0.193617</td>\n",
       "      <td>3.223547e+07</td>\n",
       "      <td>3.551609e+07</td>\n",
       "      <td>0.500000</td>\n",
       "    </tr>\n",
       "    <tr>\n",
       "      <th>std</th>\n",
       "      <td>0.276144</td>\n",
       "      <td>15.132576</td>\n",
       "      <td>0.437693</td>\n",
       "      <td>1.988941</td>\n",
       "      <td>3.251078</td>\n",
       "      <td>1.788896</td>\n",
       "      <td>1.862905e+07</td>\n",
       "      <td>1.843149e+07</td>\n",
       "      <td>2.223575e+07</td>\n",
       "      <td>2.135443e+07</td>\n",
       "      <td>...</td>\n",
       "      <td>0.372439</td>\n",
       "      <td>0.435303</td>\n",
       "      <td>0.305917</td>\n",
       "      <td>0.426496</td>\n",
       "      <td>2.030246e+07</td>\n",
       "      <td>2.122404e+07</td>\n",
       "      <td>0.395553</td>\n",
       "      <td>2.136353e+07</td>\n",
       "      <td>2.142491e+07</td>\n",
       "      <td>0.500533</td>\n",
       "    </tr>\n",
       "    <tr>\n",
       "      <th>min</th>\n",
       "      <td>0.000000</td>\n",
       "      <td>17.000000</td>\n",
       "      <td>0.000000</td>\n",
       "      <td>0.000000</td>\n",
       "      <td>1.000000</td>\n",
       "      <td>1.000000</td>\n",
       "      <td>3.251120e+05</td>\n",
       "      <td>2.573670e+05</td>\n",
       "      <td>1.242339e+06</td>\n",
       "      <td>5.015480e+05</td>\n",
       "      <td>...</td>\n",
       "      <td>0.000000</td>\n",
       "      <td>0.000000</td>\n",
       "      <td>0.000000</td>\n",
       "      <td>0.000000</td>\n",
       "      <td>1.040999e+06</td>\n",
       "      <td>1.021536e+06</td>\n",
       "      <td>0.000000</td>\n",
       "      <td>7.429200e+04</td>\n",
       "      <td>1.263120e+05</td>\n",
       "      <td>0.000000</td>\n",
       "    </tr>\n",
       "    <tr>\n",
       "      <th>25%</th>\n",
       "      <td>1.000000</td>\n",
       "      <td>25.000000</td>\n",
       "      <td>0.000000</td>\n",
       "      <td>2.000000</td>\n",
       "      <td>7.000000</td>\n",
       "      <td>4.000000</td>\n",
       "      <td>2.026642e+07</td>\n",
       "      <td>2.286194e+07</td>\n",
       "      <td>2.084684e+07</td>\n",
       "      <td>2.045296e+07</td>\n",
       "      <td>...</td>\n",
       "      <td>0.000000</td>\n",
       "      <td>0.000000</td>\n",
       "      <td>0.000000</td>\n",
       "      <td>0.000000</td>\n",
       "      <td>2.218796e+07</td>\n",
       "      <td>2.387847e+07</td>\n",
       "      <td>0.000000</td>\n",
       "      <td>1.885389e+07</td>\n",
       "      <td>2.417542e+07</td>\n",
       "      <td>0.000000</td>\n",
       "    </tr>\n",
       "    <tr>\n",
       "      <th>50%</th>\n",
       "      <td>1.000000</td>\n",
       "      <td>32.000000</td>\n",
       "      <td>1.000000</td>\n",
       "      <td>3.000000</td>\n",
       "      <td>9.000000</td>\n",
       "      <td>5.000000</td>\n",
       "      <td>2.891220e+07</td>\n",
       "      <td>2.286194e+07</td>\n",
       "      <td>2.339998e+07</td>\n",
       "      <td>2.669228e+07</td>\n",
       "      <td>...</td>\n",
       "      <td>0.000000</td>\n",
       "      <td>0.000000</td>\n",
       "      <td>0.000000</td>\n",
       "      <td>0.000000</td>\n",
       "      <td>3.002882e+07</td>\n",
       "      <td>3.136343e+07</td>\n",
       "      <td>0.000000</td>\n",
       "      <td>2.841172e+07</td>\n",
       "      <td>2.829271e+07</td>\n",
       "      <td>0.500000</td>\n",
       "    </tr>\n",
       "    <tr>\n",
       "      <th>75%</th>\n",
       "      <td>1.000000</td>\n",
       "      <td>43.000000</td>\n",
       "      <td>1.000000</td>\n",
       "      <td>4.000000</td>\n",
       "      <td>10.000000</td>\n",
       "      <td>6.000000</td>\n",
       "      <td>2.966847e+07</td>\n",
       "      <td>2.286194e+07</td>\n",
       "      <td>2.339998e+07</td>\n",
       "      <td>3.508033e+07</td>\n",
       "      <td>...</td>\n",
       "      <td>0.000000</td>\n",
       "      <td>1.000000</td>\n",
       "      <td>0.000000</td>\n",
       "      <td>0.000000</td>\n",
       "      <td>3.811992e+07</td>\n",
       "      <td>4.335828e+07</td>\n",
       "      <td>0.000000</td>\n",
       "      <td>3.653724e+07</td>\n",
       "      <td>4.470958e+07</td>\n",
       "      <td>1.000000</td>\n",
       "    </tr>\n",
       "    <tr>\n",
       "      <th>max</th>\n",
       "      <td>1.000000</td>\n",
       "      <td>87.000000</td>\n",
       "      <td>1.000000</td>\n",
       "      <td>11.000000</td>\n",
       "      <td>18.000000</td>\n",
       "      <td>12.000000</td>\n",
       "      <td>9.609222e+07</td>\n",
       "      <td>9.769376e+07</td>\n",
       "      <td>9.992676e+07</td>\n",
       "      <td>9.929528e+07</td>\n",
       "      <td>...</td>\n",
       "      <td>1.000000</td>\n",
       "      <td>1.000000</td>\n",
       "      <td>1.000000</td>\n",
       "      <td>1.000000</td>\n",
       "      <td>9.978910e+07</td>\n",
       "      <td>9.921967e+07</td>\n",
       "      <td>1.000000</td>\n",
       "      <td>9.887554e+07</td>\n",
       "      <td>9.776049e+07</td>\n",
       "      <td>1.000000</td>\n",
       "    </tr>\n",
       "  </tbody>\n",
       "</table>\n",
       "<p>8 rows × 21 columns</p>\n",
       "</div>"
      ],
      "text/plain": [
       "           genero       idade      casado  numero_filhos  nivel_educacao  \\\n",
       "count  470.000000  470.000000  470.000000     470.000000      470.000000   \n",
       "mean     0.917021   36.378723    0.742553       2.961702        8.302128   \n",
       "std      0.276144   15.132576    0.437693       1.988941        3.251078   \n",
       "min      0.000000   17.000000    0.000000       0.000000        1.000000   \n",
       "25%      1.000000   25.000000    0.000000       2.000000        7.000000   \n",
       "50%      1.000000   32.000000    1.000000       3.000000        9.000000   \n",
       "75%      1.000000   43.000000    1.000000       4.000000       10.000000   \n",
       "max      1.000000   87.000000    1.000000      11.000000       18.000000   \n",
       "\n",
       "       membros_familia  ativos_adquiridos  ativos_duraveis  ativos_poupados  \\\n",
       "count       470.000000       4.700000e+02     4.700000e+02     4.700000e+02   \n",
       "mean          5.146809       3.068718e+07     2.784189e+07     2.958035e+07   \n",
       "std           1.788896       1.862905e+07     1.843149e+07     2.223575e+07   \n",
       "min           1.000000       3.251120e+05     2.573670e+05     1.242339e+06   \n",
       "25%           4.000000       2.026642e+07     2.286194e+07     2.084684e+07   \n",
       "50%           5.000000       2.891220e+07     2.286194e+07     2.339998e+07   \n",
       "75%           6.000000       2.966847e+07     2.286194e+07     2.339998e+07   \n",
       "max          12.000000       9.609222e+07     9.769376e+07     9.992676e+07   \n",
       "\n",
       "       despesas_moradia  ...  renda_salario  renda_fazenda_propria  \\\n",
       "count      4.700000e+02  ...     470.000000             470.000000   \n",
       "mean       3.218173e+07  ...       0.165957               0.253191   \n",
       "std        2.135443e+07  ...       0.372439               0.435303   \n",
       "min        5.015480e+05  ...       0.000000               0.000000   \n",
       "25%        2.045296e+07  ...       0.000000               0.000000   \n",
       "50%        2.669228e+07  ...       0.000000               0.000000   \n",
       "75%        3.508033e+07  ...       0.000000               1.000000   \n",
       "max        9.929528e+07  ...       1.000000               1.000000   \n",
       "\n",
       "       renda_negocios  renda_sem_negocio  renda_agricola  despesas_fazenda  \\\n",
       "count      470.000000         470.000000    4.700000e+02      4.700000e+02   \n",
       "mean         0.104255           0.238298    3.354952e+07      3.576076e+07   \n",
       "std          0.305917           0.426496    2.030246e+07      2.122404e+07   \n",
       "min          0.000000           0.000000    1.040999e+06      1.021536e+06   \n",
       "25%          0.000000           0.000000    2.218796e+07      2.387847e+07   \n",
       "50%          0.000000           0.000000    3.002882e+07      3.136343e+07   \n",
       "75%          0.000000           0.000000    3.811992e+07      4.335828e+07   \n",
       "max          1.000000           1.000000    9.978910e+07      9.921967e+07   \n",
       "\n",
       "       trabalho_principal  investimento_duradouro  sem_investimento_duradouro  \\\n",
       "count          470.000000            4.700000e+02                4.700000e+02   \n",
       "mean             0.193617            3.223547e+07                3.551609e+07   \n",
       "std              0.395553            2.136353e+07                2.142491e+07   \n",
       "min              0.000000            7.429200e+04                1.263120e+05   \n",
       "25%              0.000000            1.885389e+07                2.417542e+07   \n",
       "50%              0.000000            2.841172e+07                2.829271e+07   \n",
       "75%              0.000000            3.653724e+07                4.470958e+07   \n",
       "max              1.000000            9.887554e+07                9.776049e+07   \n",
       "\n",
       "        depressao  \n",
       "count  470.000000  \n",
       "mean     0.500000  \n",
       "std      0.500533  \n",
       "min      0.000000  \n",
       "25%      0.000000  \n",
       "50%      0.500000  \n",
       "75%      1.000000  \n",
       "max      1.000000  \n",
       "\n",
       "[8 rows x 21 columns]"
      ]
     },
     "execution_count": 7,
     "metadata": {},
     "output_type": "execute_result"
    }
   ],
   "source": [
    "df_depressao.describe()\n"
   ]
  },
  {
   "cell_type": "markdown",
   "metadata": {},
   "source": [
    "## Verificando os Valores Únicos"
   ]
  },
  {
   "cell_type": "code",
   "execution_count": 8,
   "metadata": {},
   "outputs": [
    {
     "data": {
      "text/plain": [
       "genero                          2\n",
       "idade                          65\n",
       "casado                          2\n",
       "numero_filhos                  11\n",
       "nivel_educacao                 16\n",
       "membros_familia                12\n",
       "ativos_adquiridos             227\n",
       "ativos_duraveis               145\n",
       "ativos_poupados               218\n",
       "despesas_moradia              203\n",
       "outras_despesas               260\n",
       "renda_salario                   2\n",
       "renda_fazenda_propria           2\n",
       "renda_negocios                  2\n",
       "renda_sem_negocio               2\n",
       "renda_agricola                158\n",
       "despesas_fazenda              276\n",
       "trabalho_principal              2\n",
       "investimento_duradouro        313\n",
       "sem_investimento_duradouro    314\n",
       "depressao                       2\n",
       "dtype: int64"
      ]
     },
     "execution_count": 8,
     "metadata": {},
     "output_type": "execute_result"
    }
   ],
   "source": [
    "df_depressao.nunique()"
   ]
  },
  {
   "cell_type": "markdown",
   "metadata": {},
   "source": [
    "## Analisando a Faixa Etária"
   ]
  },
  {
   "cell_type": "code",
   "execution_count": 9,
   "metadata": {},
   "outputs": [
    {
     "data": {
      "image/png": "[encoded data removed]",
      "text/plain": [
       "<Figure size 640x480 with 1 Axes>"
      ]
     },
     "metadata": {},
     "output_type": "display_data"
    }
   ],
   "source": [
    "x = df_depressao['idade']\n",
    "\n",
    "# PLOT HISTOGRAMA\n",
    "fig , ax = plt.subplots()\n",
    "\n",
    "ax.hist(x, linewidth=0.5, edgecolor='white')\n",
    "plt.xlabel('Idade')\n",
    "plt.ylabel('Quantidade')\n",
    "plt.show()"
   ]
  },
  {
   "cell_type": "markdown",
   "metadata": {},
   "source": [
    "## Analisando o Gênero"
   ]
  },
  {
   "cell_type": "code",
   "execution_count": 10,
   "metadata": {},
   "outputs": [
    {
     "data": {
      "text/plain": [
       "Text(0, 0.5, 'Contagem')"
      ]
     },
     "execution_count": 10,
     "metadata": {},
     "output_type": "execute_result"
    },
    {
     "data": {
      "image/png": "[encoded data removed]",
      "text/plain": [
       "<Figure size 640x480 with 1 Axes>"
      ]
     },
     "metadata": {},
     "output_type": "display_data"
    }
   ],
   "source": [
    "contagem_genero = df_depressao['genero'].value_counts()\n",
    "\n",
    "# PLOT GRAFICO DE BARRAS\n",
    "plt.bar(contagem_genero.index, contagem_genero.values)\n",
    "\n",
    "plt.xticks([0, 1], ['Masculino', 'Feminino'])\n",
    "plt.xlabel('Gênero')\n",
    "plt.ylabel('Contagem')\n"
   ]
  },
  {
   "cell_type": "markdown",
   "metadata": {},
   "source": [
    "## Analisando o Estado Civil"
   ]
  },
  {
   "cell_type": "code",
   "execution_count": 11,
   "metadata": {},
   "outputs": [
    {
     "data": {
      "text/plain": [
       "Text(0, 0.5, 'Contagem')"
      ]
     },
     "execution_count": 11,
     "metadata": {},
     "output_type": "execute_result"
    },
    {
     "data": {
      "image/png": "[encoded data removed]",
      "text/plain": [
       "<Figure size 640x480 with 1 Axes>"
      ]
     },
     "metadata": {},
     "output_type": "display_data"
    }
   ],
   "source": [
    "contagem_casado = df_depressao['casado'].value_counts()\n",
    "\n",
    "# PLOT GRAFICO DE BARRAS\n",
    "plt.bar(contagem_casado.index, contagem_casado.values)\n",
    "\n",
    "plt.xticks([0, 1], ['Solteiro', 'Casado'])\n",
    "plt.xlabel('Estado Civil')\n",
    "plt.ylabel('Contagem')"
   ]
  },
  {
   "cell_type": "markdown",
   "metadata": {},
   "source": [
    "# Preparando Dados"
   ]
  },
  {
   "cell_type": "markdown",
   "metadata": {},
   "source": [
    "## Separando o rotulo y dos dados x"
   ]
  },
  {
   "cell_type": "code",
   "execution_count": 12,
   "metadata": {},
   "outputs": [],
   "source": [
    "\n",
    "df_depressao.head()\n",
    "\n",
    "y = df_depressao['depressao']\n",
    "\n",
    "df_depressao.drop(['depressao'], axis=1, inplace=True)\n",
    "\n",
    "\n",
    "\n",
    "y = np.array(y)"
   ]
  },
  {
   "cell_type": "code",
   "execution_count": 13,
   "metadata": {},
   "outputs": [],
   "source": [
    "\n",
    "df_depressao\n",
    "\n",
    "scaler = StandardScaler()\n",
    "x = scaler.fit_transform(df_depressao)\n",
    "\n",
    "\n",
    "# 232"
   ]
  },
  {
   "cell_type": "markdown",
   "metadata": {},
   "source": [
    "# Treinando o modelo"
   ]
  },
  {
   "cell_type": "markdown",
   "metadata": {},
   "source": [
    "## Metricas do modelo com seed = 30"
   ]
  },
  {
   "cell_type": "code",
   "execution_count": 26,
   "metadata": {},
   "outputs": [
    {
     "data": {
      "text/plain": [
       "array([[ 0.30081097,  0.17340535,  0.5888165 , ..., -0.49000565,\n",
       "        -0.95104635,  0.42185298],\n",
       "       [ 0.30081097, -0.81888988,  0.5888165 , ...,  2.04079278,\n",
       "         2.99223913,  2.49260375],\n",
       "       [ 0.30081097,  1.43031264, -1.69832197, ...,  2.04079278,\n",
       "        -0.54004807,  2.86156146],\n",
       "       ...,\n",
       "       [ 0.30081097, -0.81888988,  0.5888165 , ..., -0.49000565,\n",
       "        -0.17917568, -0.33750832],\n",
       "       [-3.32434686, -0.55427782,  0.5888165 , ..., -0.49000565,\n",
       "        -1.49065407, -0.70849241],\n",
       "       [-3.32434686,  0.23955837, -1.69832197, ..., -0.49000565,\n",
       "         1.12202023,  0.29756641]])"
      ]
     },
     "execution_count": 26,
     "metadata": {},
     "output_type": "execute_result"
    }
   ],
   "source": [
    "\n",
    "seed = 30\n",
    "\n",
    "x_train, x_test, y_train, y_test = train_test_split(x, y, test_size=0.25, stratify=y, random_state=seed)\n",
    "\n",
    "arvore = tree.DecisionTreeClassifier(criterion='entropy', max_depth=3, random_state=seed)\n",
    "arvore.fit(x_train, y_train)\n",
    "\n",
    "pred = arvore.predict(x_test)\n",
    "\n",
    "acuracia = accuracy_score(y_test, pred)\n",
    "acuracia = acuracia * 100\n",
    "\n",
    "recall = recall_score(y_test, pred)\n",
    "recall = recall * 100\n",
    "\n",
    "precisao = precision_score(y_test, pred)\n",
    "precisao = precisao * 100\n",
    "\n",
    "f1 = f1_score(y_test, pred)\n",
    "f1 = f1 * 100\n",
    "\n",
    "mae = mean_absolute_error(y_test, pred)\n",
    "mae = mae * 100\n",
    "\n",
    "mse = mean_squared_error(y_test, pred)\n",
    "mse = mse * 100\n",
    "\n",
    "rmse = np.sqrt(mse)\n",
    "rmse \n",
    "\n",
    "\n",
    "print('========== Metricas do modelo ==========')\n",
    "print(f'Acuracia: {acuracia:.0f}%')\n",
    "print(f'Recall: {recall:.0f}%')\n",
    "print(f'Precisao: {precisao:.2f}%')\n",
    "print(f'F1-score: {f1:.2f}%')\n",
    "print(f\"Erro Absoluto Médio (MAE): {mae:.0f}%\",)\n",
    "print(f\"Erro Quadrático Médio (MSE): {mse:.0f}%\")\n",
    "print(f\"Raiz do Erro Quadrático Médio (RMSE): {rmse:.2f}\")\n"
   ]
  },
  {
   "cell_type": "markdown",
   "metadata": {},
   "source": [
    "## Modelo Sem Seed Verificando Acuracia K-NN"
   ]
  },
  {
   "cell_type": "code",
   "execution_count": 15,
   "metadata": {},
   "outputs": [
    {
     "name": "stderr",
     "output_type": "stream",
     "text": [
      "C:\\Users\\Ronildo\\AppData\\Local\\Temp\\ipykernel_12988\\651385981.py:33: UserWarning: \n",
      "\n",
      "`distplot` is a deprecated function and will be removed in seaborn v0.14.0.\n",
      "\n",
      "Please adapt your code to use either `displot` (a figure-level function with\n",
      "similar flexibility) or `histplot` (an axes-level function for histograms).\n",
      "\n",
      "For a guide to updating your code to use the new functions, please see\n",
      "https://gist.github.com/mwaskom/de44147ed2974457ad6372750bbe5751\n",
      "\n",
      "  sns.distplot(scores)\n"
     ]
    },
    {
     "data": {
      "image/png": "[encoded data removed]",
      "text/plain": [
       "<Figure size 640x480 with 1 Axes>"
      ]
     },
     "metadata": {},
     "output_type": "display_data"
    }
   ],
   "source": [
    "scores = []\n",
    "for i in range(200):\n",
    "    x_train, x_test, y_train, y_test = train_test_split(x, y, test_size=0.25, stratify=y)\n",
    "\n",
    "    arvore = tree.DecisionTreeClassifier(criterion='entropy', max_depth=3)\n",
    "    arvore.fit(x_train, y_train)\n",
    "\n",
    "    pred= arvore.predict(x_test)\n",
    "    \n",
    "    acuracia = accuracy_score(y_test, pred)\n",
    "    scores.append(acuracia)\n",
    "    # acuracia = acuracia * 100\n",
    "\n",
    "    recall = recall_score(y_test, pred)\n",
    "    recall = recall * 100\n",
    "\n",
    "    precisao = precision_score(y_test, pred)\n",
    "    precisao = precisao * 100\n",
    "\n",
    "    f1 = f1_score(y_test, pred)\n",
    "    f1 = f1 * 100\n",
    "\n",
    "    mae = mean_absolute_error(y_test, pred)\n",
    "    mae = mae * 100\n",
    "\n",
    "    mse = mean_squared_error(y_test, pred)\n",
    "    mse = mse * 100\n",
    "\n",
    "    rmse = np.sqrt(mse)\n",
    "    rmse \n",
    "\n",
    "\n",
    "sns.distplot(scores)\n",
    "plt.yticks([])\n",
    "plt.title(\"Acucarias do K-NN\")\n",
    "plt.show()\n",
    "\n",
    "\n",
    "print('========== Metricas do modelo ==========')\n",
    "print(f'Acuracia: {acuracia:.0f}%')\n",
    "print(f'Recall: {recall:.0f}%')\n",
    "print(f'Precisao: {precisao:.2f}%')\n",
    "print(f'F1-score: {f1:.2f}%')\n",
    "print(f\"Erro Absoluto Médio (MAE): {mae:.0f}%\",)\n",
    "print(f\"Erro Quadrático Médio (MSE): {mse:.0f}%\")\n",
    "print(f\"Raiz do Erro Quadrático Médio (RMSE): {rmse:.2f}\")\n",
    "\n"
   ]
  },
  {
   "cell_type": "markdown",
   "metadata": {},
   "source": [
    "## Matriz de Confusão"
   ]
  },
  {
   "cell_type": "code",
   "execution_count": 17,
   "metadata": {},
   "outputs": [
    {
     "data": {
      "image/png": "[encoded data removed]",
      "text/plain": [
       "<Figure size 640x480 with 2 Axes>"
      ]
     },
     "metadata": {},
     "output_type": "display_data"
    }
   ],
   "source": [
    "# Calcular a matriz de confusão\n",
    "matriz_confusao = confusion_matrix(y_test, pred)\n",
    "\n",
    "# Criar um heatmap da matriz de confusão\n",
    "sns.heatmap(matriz_confusao, annot=True, fmt='d', cmap='Blues')\n",
    "plt.xlabel('Rótulos Previstos')\n",
    "plt.ylabel('Rótulos Verdadeiros')\n",
    "plt.show()"
   ]
  }
 ],
 "metadata": {
  "kernelspec": {
   "display_name": "Python 3",
   "language": "python",
   "name": "python3"
  },
  "language_info": {
   "codemirror_mode": {
    "name": "ipython",
    "version": 3
   },
   "file_extension": ".py",
   "mimetype": "text/x-python",
   "name": "python",
   "nbconvert_exporter": "python",
   "pygments_lexer": "ipython3",
   "version": "3.11.5"
  }
 },
 "nbformat": 4,
 "nbformat_minor": 2
}
